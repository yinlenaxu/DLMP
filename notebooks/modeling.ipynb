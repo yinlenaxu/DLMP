{
 "cells": [
  {
   "cell_type": "code",
   "execution_count": 22,
   "metadata": {},
   "outputs": [],
   "source": [
    "import pandas as pd\n",
    "import numpy as np\n",
    "from sklearn.model_selection import train_test_split\n",
    "from sklearn import svm\n",
    "from sklearn.metrics import confusion_matrix\n",
    "from sklearn import linear_model\n",
    "import statsmodels.api as sm\n",
    "from sklearn.metrics import accuracy_score\n",
    "from sklearn.metrics import precision_score\n",
    "from sklearn.metrics import recall_score\n",
    "from sklearn.metrics import f1_score\n",
    "from sklearn.model_selection import KFold\n",
    "from sklearn.ensemble import RandomForestClassifier\n",
    "from sklearn.preprocessing import LabelEncoder\n",
    "from sklearn.preprocessing import OneHotEncoder\n",
    "from sklearn.metrics import PrecisionRecallDisplay\n",
    "from sklearn.dummy import DummyClassifier"
   ]
  },
  {
   "cell_type": "code",
   "execution_count": 2,
   "metadata": {},
   "outputs": [],
   "source": [
    "refactor_commits = pd.read_csv(\"../data/processed/refactor_commits.csv\", encoding='utf8', engine='python')"
   ]
  },
  {
   "cell_type": "code",
   "execution_count": 3,
   "metadata": {},
   "outputs": [
    {
     "data": {
      "text/html": [
       "<div>\n",
       "<style scoped>\n",
       "    .dataframe tbody tr th:only-of-type {\n",
       "        vertical-align: middle;\n",
       "    }\n",
       "\n",
       "    .dataframe tbody tr th {\n",
       "        vertical-align: top;\n",
       "    }\n",
       "\n",
       "    .dataframe thead th {\n",
       "        text-align: right;\n",
       "    }\n",
       "</style>\n",
       "<table border=\"1\" class=\"dataframe\">\n",
       "  <thead>\n",
       "    <tr style=\"text-align: right;\">\n",
       "      <th></th>\n",
       "      <th>COMMIT_HASH</th>\n",
       "      <th>REFACTORING_TYPE</th>\n",
       "      <th>COMMIT_DAY</th>\n",
       "      <th>LINES_ADDED</th>\n",
       "      <th>LINES_REMOVED</th>\n",
       "      <th>LINES_ADDED_LAST_COMMITS</th>\n",
       "      <th>LINES_REMOVED_LAST_COMMITS</th>\n",
       "      <th>LABEL</th>\n",
       "    </tr>\n",
       "  </thead>\n",
       "  <tbody>\n",
       "    <tr>\n",
       "      <th>0</th>\n",
       "      <td>23df647cf944b6c33ab23f0433305c153e247839</td>\n",
       "      <td>Move Class</td>\n",
       "      <td>6421</td>\n",
       "      <td>19</td>\n",
       "      <td>14</td>\n",
       "      <td>957</td>\n",
       "      <td>42</td>\n",
       "      <td>0</td>\n",
       "    </tr>\n",
       "    <tr>\n",
       "      <th>1</th>\n",
       "      <td>0a2576bbf0225626c1e2af1ade360ac15675fb65</td>\n",
       "      <td>Move Class</td>\n",
       "      <td>6420</td>\n",
       "      <td>21</td>\n",
       "      <td>16</td>\n",
       "      <td>939</td>\n",
       "      <td>32</td>\n",
       "      <td>0</td>\n",
       "    </tr>\n",
       "    <tr>\n",
       "      <th>2</th>\n",
       "      <td>a0dd0a5298bb8447511759a869956ac448220db5</td>\n",
       "      <td>Move Source Folder</td>\n",
       "      <td>6170</td>\n",
       "      <td>40</td>\n",
       "      <td>3</td>\n",
       "      <td>1101</td>\n",
       "      <td>29</td>\n",
       "      <td>0</td>\n",
       "    </tr>\n",
       "    <tr>\n",
       "      <th>3</th>\n",
       "      <td>1661dbe6278577d344ebe1592308671a7c27bef2</td>\n",
       "      <td>Move Source Folder</td>\n",
       "      <td>6169</td>\n",
       "      <td>108</td>\n",
       "      <td>1</td>\n",
       "      <td>996</td>\n",
       "      <td>31</td>\n",
       "      <td>0</td>\n",
       "    </tr>\n",
       "    <tr>\n",
       "      <th>4</th>\n",
       "      <td>49d15d8f0c66f1b41c1aab24430f129388826e89</td>\n",
       "      <td>Move Source Folder</td>\n",
       "      <td>5625</td>\n",
       "      <td>748</td>\n",
       "      <td>22</td>\n",
       "      <td>294</td>\n",
       "      <td>9</td>\n",
       "      <td>0</td>\n",
       "    </tr>\n",
       "  </tbody>\n",
       "</table>\n",
       "</div>"
      ],
      "text/plain": [
       "                                COMMIT_HASH    REFACTORING_TYPE  COMMIT_DAY  \\\n",
       "0  23df647cf944b6c33ab23f0433305c153e247839          Move Class        6421   \n",
       "1  0a2576bbf0225626c1e2af1ade360ac15675fb65          Move Class        6420   \n",
       "2  a0dd0a5298bb8447511759a869956ac448220db5  Move Source Folder        6170   \n",
       "3  1661dbe6278577d344ebe1592308671a7c27bef2  Move Source Folder        6169   \n",
       "4  49d15d8f0c66f1b41c1aab24430f129388826e89  Move Source Folder        5625   \n",
       "\n",
       "   LINES_ADDED  LINES_REMOVED  LINES_ADDED_LAST_COMMITS  \\\n",
       "0           19             14                       957   \n",
       "1           21             16                       939   \n",
       "2           40              3                      1101   \n",
       "3          108              1                       996   \n",
       "4          748             22                       294   \n",
       "\n",
       "   LINES_REMOVED_LAST_COMMITS  LABEL  \n",
       "0                          42      0  \n",
       "1                          32      0  \n",
       "2                          29      0  \n",
       "3                          31      0  \n",
       "4                           9      0  "
      ]
     },
     "execution_count": 3,
     "metadata": {},
     "output_type": "execute_result"
    }
   ],
   "source": [
    "refactor_commits.head()"
   ]
  },
  {
   "cell_type": "code",
   "execution_count": 4,
   "metadata": {},
   "outputs": [],
   "source": [
    "def compute_metrics(y_test, predicts):\n",
    "    print('Metrics for one partition: \\n')\n",
    "    print('confusion matrix:\\n', confusion_matrix(y_test, predicts), '\\n')\n",
    "    print('accuracy:', round(accuracy_score(y_test, predicts),3))\n",
    "    print('precision:', round(precision_score(y_test, predicts),3))\n",
    "    print('recall:', round(recall_score(y_test, predicts),3))\n",
    "    print('f1:', round(f1_score(y_test, predicts),3))\n",
    "    pass"
   ]
  },
  {
   "cell_type": "markdown",
   "metadata": {},
   "source": [
    "###  SUPPORT VECTOR MACHINE"
   ]
  },
  {
   "cell_type": "code",
   "execution_count": 5,
   "metadata": {},
   "outputs": [],
   "source": [
    "y = refactor_commits[\"LABEL\"]\n",
    "X = refactor_commits.drop(columns = [\"COMMIT_HASH\",\"LABEL\"])\n",
    "X[\"REFACTORING_TYPE\"] = X[\"REFACTORING_TYPE\"].astype(\"category\").cat.codes"
   ]
  },
  {
   "cell_type": "code",
   "execution_count": 6,
   "metadata": {},
   "outputs": [
    {
     "name": "stdout",
     "output_type": "stream",
     "text": [
      "Metrics for one partition: \n",
      "\n",
      "confusion matrix:\n",
      " [[2524    6]\n",
      " [ 977   20]] \n",
      "\n",
      "accuracy: 0.721\n",
      "precision: 0.769\n",
      "recall: 0.02\n",
      "f1: 0.039\n"
     ]
    }
   ],
   "source": [
    "X_train, X_test, y_train, y_test = train_test_split(X, y, test_size=0.33, random_state=42)\n",
    "svm_model = svm.SVC(kernel = 'rbf')\n",
    "svm_model.fit(X_train, y_train)\n",
    "predicts = svm_model.predict(X_test)\n",
    "compute_metrics(y_test, predicts)"
   ]
  },
  {
   "cell_type": "code",
   "execution_count": 9,
   "metadata": {},
   "outputs": [
    {
     "data": {
      "image/png": "[encoded data removed]",
      "text/plain": [
       "<Figure size 432x288 with 1 Axes>"
      ]
     },
     "metadata": {
      "needs_background": "light"
     },
     "output_type": "display_data"
    }
   ],
   "source": [
    "display = PrecisionRecallDisplay.from_estimator(\n",
    "    svm_model, X_test, y_test, name=\"SVM\"\n",
    ")\n",
    "_ = display.ax_.set_title(\"2-class Precision-Recall curve\")"
   ]
  },
  {
   "cell_type": "code",
   "execution_count": 10,
   "metadata": {},
   "outputs": [
    {
     "name": "stdout",
     "output_type": "stream",
     "text": [
      "Metrics averaged over 10 different partitions:\n",
      "\n",
      "mean accuracy: 0.72\n",
      "mean precision: 0.782\n",
      "mean recall: 0.015\n",
      "mean f1: 0.029\n"
     ]
    }
   ],
   "source": [
    "print('Metrics averaged over 10 different partitions:\\n')\n",
    "kf = KFold(n_splits=10, shuffle=True)\n",
    "kf.get_n_splits(X)\n",
    "accuracies = []\n",
    "precisions = []\n",
    "recalls = []\n",
    "f1s = []\n",
    "\n",
    "for train_index, test_index in kf.split(X):\n",
    "    svm_model = svm.SVC(kernel = 'rbf')\n",
    "    svm_model.fit(X.iloc[train_index], y[train_index])\n",
    "    pred = svm_model.predict(X.iloc[test_index])\n",
    "\n",
    "    accuracies.append(accuracy_score(y[test_index], pred))\n",
    "    precisions.append(precision_score(y[test_index], pred))\n",
    "    recalls.append(recall_score(y[test_index], pred))\n",
    "    f1s.append(f1_score(y[test_index], pred)) \n",
    "\n",
    "print('mean accuracy:', round(np.mean(accuracies),3))\n",
    "print('mean precision:', round(np.mean(precisions),3))\n",
    "print('mean recall:', round(np.mean(recalls),3))\n",
    "print('mean f1:', round(np.mean(f1s),3))"
   ]
  },
  {
   "cell_type": "markdown",
   "metadata": {},
   "source": [
    "### GLM BINOMIAL"
   ]
  },
  {
   "cell_type": "code",
   "execution_count": 11,
   "metadata": {},
   "outputs": [],
   "source": [
    "y_train = pd.Series(y_train).replace(1,0.95).replace(0,0.05)\n",
    "y_train = np.asarray(y_train).astype(float)\n",
    "model = sm.GLM(y_train,X_train, family = sm.families.Binomial())\n",
    "res = model.fit()\n",
    "res = res.predict(X_test)"
   ]
  },
  {
   "cell_type": "code",
   "execution_count": 12,
   "metadata": {},
   "outputs": [
    {
     "name": "stdout",
     "output_type": "stream",
     "text": [
      "Metrics for one partition: \n",
      "\n",
      "confusion matrix:\n",
      " [[2520   10]\n",
      " [ 994    3]] \n",
      "\n",
      "accuracy: 0.715\n",
      "precision: 0.231\n",
      "recall: 0.003\n",
      "f1: 0.006\n"
     ]
    }
   ],
   "source": [
    "compute_metrics(y_test, res > 0.5)"
   ]
  },
  {
   "cell_type": "code",
   "execution_count": 10,
   "metadata": {},
   "outputs": [
    {
     "name": "stdout",
     "output_type": "stream",
     "text": [
      "Metrics averaged over 10 different partitions:\n",
      "\n",
      "mean accuracy: 0.716\n",
      "mean precision: 0.351\n",
      "mean recall: 0.005\n",
      "mean f1: 0.01\n"
     ]
    },
    {
     "name": "stderr",
     "output_type": "stream",
     "text": [
      "/home/lena/.local/lib/python3.8/site-packages/sklearn/metrics/_classification.py:1308: UndefinedMetricWarning: Precision is ill-defined and being set to 0.0 due to no predicted samples. Use `zero_division` parameter to control this behavior.\n",
      "  _warn_prf(average, modifier, msg_start, len(result))\n"
     ]
    }
   ],
   "source": [
    "print('Metrics averaged over 10 different partitions:\\n')\n",
    "kf = KFold(n_splits=10, shuffle=True)\n",
    "kf.get_n_splits(X)\n",
    "accuracies = []\n",
    "precisions = []\n",
    "recalls = []\n",
    "f1s = []\n",
    "\n",
    "for train_index, test_index in kf.split(X):\n",
    "    model = sm.GLM(y[train_index],X.iloc[train_index], family = sm.families.Binomial())\n",
    "    res = model.fit()\n",
    "    pred = res.predict(X.iloc[test_index])\n",
    "    \n",
    "    accuracies.append(accuracy_score(y[test_index], pred > 0.5))\n",
    "    precisions.append(precision_score(y[test_index], pred > 0.5))\n",
    "    recalls.append(recall_score(y[test_index], pred > 0.5))\n",
    "    f1s.append(f1_score(y[test_index], pred > 0.5)) \n",
    "    \n",
    "print('mean accuracy:', round(np.mean(accuracies),3))\n",
    "print('mean precision:', round(np.mean(precisions),3))\n",
    "print('mean recall:', round(np.mean(recalls),3))\n",
    "print('mean f1:', round(np.mean(f1s),3))"
   ]
  },
  {
   "cell_type": "markdown",
   "metadata": {},
   "source": [
    "### RANDOM FOREST"
   ]
  },
  {
   "cell_type": "code",
   "execution_count": 15,
   "metadata": {},
   "outputs": [],
   "source": [
    "values = np.array(refactor_commits.REFACTORING_TYPE)\n",
    "\n",
    "# first apply label encoding\n",
    "label_encoder = LabelEncoder()\n",
    "integer_encoded = label_encoder.fit_transform(values)\n",
    "\n",
    "# now we can apply one hot encoding\n",
    "onehot_encoder = OneHotEncoder(sparse=False)\n",
    "integer_encoded = integer_encoded.reshape(len(integer_encoded), 1)\n",
    "onehot_encoded = onehot_encoder.fit_transform(integer_encoded)"
   ]
  },
  {
   "cell_type": "code",
   "execution_count": 16,
   "metadata": {},
   "outputs": [],
   "source": [
    "a = pd.get_dummies(pd.cut(refactor_commits['COMMIT_DAY'], bins=[0,694,1738,3409,6450],labels=['COMMIT_DAY[0,694]','COMMIT_DAY[694,1738]','COMMIT_DAY[1738,3409]','COMMIT_DAY[3409,6450]']))\n",
    "b = pd.get_dummies(pd.cut(refactor_commits['LINES_ADDED'], bins=[0,52,181,542,119045],labels=['LINES_ADDED[0,52]','LINES_ADDED[52,181]','LINES_ADDED[181,542]','LINES_ADDED[542,119045]']))\n",
    "c = pd.get_dummies(pd.cut(refactor_commits['LINES_REMOVED'], bins=[0,22,92,298,119047],labels=['LINES_REMOVED[0,22]','LINES_REMOVED[22,92]','LINES_REMOVED[92,298]','LINES_REMOVED[298,119047]']))\n",
    "d = pd.get_dummies(pd.cut(refactor_commits['LINES_ADDED_LAST_COMMITS'], bins=[0,541,1080,2246,178258],labels=['LINES_ADDED_LAST_COMMITS_1','LINES_ADDED_LAST_COMMITS_2','LINES_ADDED_LAST_COMMITS_3','LINES_ADDED_LAST_COMMITS_4']))\n",
    "e = pd.get_dummies(pd.cut(refactor_commits['LINES_REMOVED_LAST_COMMITS'], bins=[0,265,569,1219,179351],labels=['LINES_REMOVED_LAST_COMMITS_1','LINES_REMOVED_LAST_COMMITS_2','LINES_REMOVED_LAST_COMMITS_3','LINES_REMOVED_LAST_COMMITS_4']))\n",
    "f = pd.get_dummies(refactor_commits.REFACTORING_TYPE)\n",
    "data = pd.concat([a, b, c, d, e, f, refactor_commits['LABEL']], axis=1)\n"
   ]
  },
  {
   "cell_type": "code",
   "execution_count": 17,
   "metadata": {},
   "outputs": [
    {
     "data": {
      "text/html": [
       "<div>\n",
       "<style scoped>\n",
       "    .dataframe tbody tr th:only-of-type {\n",
       "        vertical-align: middle;\n",
       "    }\n",
       "\n",
       "    .dataframe tbody tr th {\n",
       "        vertical-align: top;\n",
       "    }\n",
       "\n",
       "    .dataframe thead th {\n",
       "        text-align: right;\n",
       "    }\n",
       "</style>\n",
       "<table border=\"1\" class=\"dataframe\">\n",
       "  <thead>\n",
       "    <tr style=\"text-align: right;\">\n",
       "      <th></th>\n",
       "      <th>COMMIT_DAY[0,694]</th>\n",
       "      <th>COMMIT_DAY[694,1738]</th>\n",
       "      <th>COMMIT_DAY[1738,3409]</th>\n",
       "      <th>COMMIT_DAY[3409,6450]</th>\n",
       "      <th>LINES_ADDED[0,52]</th>\n",
       "      <th>LINES_ADDED[52,181]</th>\n",
       "      <th>LINES_ADDED[181,542]</th>\n",
       "      <th>LINES_ADDED[542,119045]</th>\n",
       "      <th>LINES_REMOVED[0,22]</th>\n",
       "      <th>LINES_REMOVED[22,92]</th>\n",
       "      <th>...</th>\n",
       "      <th>Push Down Method</th>\n",
       "      <th>Rename Attribute</th>\n",
       "      <th>Rename Class</th>\n",
       "      <th>Rename Method</th>\n",
       "      <th>Rename Package</th>\n",
       "      <th>Rename Parameter</th>\n",
       "      <th>Rename Variable</th>\n",
       "      <th>Replace Attribute</th>\n",
       "      <th>Replace Variable With Attribute</th>\n",
       "      <th>LABEL</th>\n",
       "    </tr>\n",
       "  </thead>\n",
       "  <tbody>\n",
       "    <tr>\n",
       "      <th>0</th>\n",
       "      <td>0</td>\n",
       "      <td>0</td>\n",
       "      <td>0</td>\n",
       "      <td>1</td>\n",
       "      <td>1</td>\n",
       "      <td>0</td>\n",
       "      <td>0</td>\n",
       "      <td>0</td>\n",
       "      <td>1</td>\n",
       "      <td>0</td>\n",
       "      <td>...</td>\n",
       "      <td>0</td>\n",
       "      <td>0</td>\n",
       "      <td>0</td>\n",
       "      <td>0</td>\n",
       "      <td>0</td>\n",
       "      <td>0</td>\n",
       "      <td>0</td>\n",
       "      <td>0</td>\n",
       "      <td>0</td>\n",
       "      <td>0</td>\n",
       "    </tr>\n",
       "    <tr>\n",
       "      <th>1</th>\n",
       "      <td>0</td>\n",
       "      <td>0</td>\n",
       "      <td>0</td>\n",
       "      <td>1</td>\n",
       "      <td>1</td>\n",
       "      <td>0</td>\n",
       "      <td>0</td>\n",
       "      <td>0</td>\n",
       "      <td>1</td>\n",
       "      <td>0</td>\n",
       "      <td>...</td>\n",
       "      <td>0</td>\n",
       "      <td>0</td>\n",
       "      <td>0</td>\n",
       "      <td>0</td>\n",
       "      <td>0</td>\n",
       "      <td>0</td>\n",
       "      <td>0</td>\n",
       "      <td>0</td>\n",
       "      <td>0</td>\n",
       "      <td>0</td>\n",
       "    </tr>\n",
       "    <tr>\n",
       "      <th>2</th>\n",
       "      <td>0</td>\n",
       "      <td>0</td>\n",
       "      <td>0</td>\n",
       "      <td>1</td>\n",
       "      <td>1</td>\n",
       "      <td>0</td>\n",
       "      <td>0</td>\n",
       "      <td>0</td>\n",
       "      <td>1</td>\n",
       "      <td>0</td>\n",
       "      <td>...</td>\n",
       "      <td>0</td>\n",
       "      <td>0</td>\n",
       "      <td>0</td>\n",
       "      <td>0</td>\n",
       "      <td>0</td>\n",
       "      <td>0</td>\n",
       "      <td>0</td>\n",
       "      <td>0</td>\n",
       "      <td>0</td>\n",
       "      <td>0</td>\n",
       "    </tr>\n",
       "    <tr>\n",
       "      <th>3</th>\n",
       "      <td>0</td>\n",
       "      <td>0</td>\n",
       "      <td>0</td>\n",
       "      <td>1</td>\n",
       "      <td>0</td>\n",
       "      <td>1</td>\n",
       "      <td>0</td>\n",
       "      <td>0</td>\n",
       "      <td>1</td>\n",
       "      <td>0</td>\n",
       "      <td>...</td>\n",
       "      <td>0</td>\n",
       "      <td>0</td>\n",
       "      <td>0</td>\n",
       "      <td>0</td>\n",
       "      <td>0</td>\n",
       "      <td>0</td>\n",
       "      <td>0</td>\n",
       "      <td>0</td>\n",
       "      <td>0</td>\n",
       "      <td>0</td>\n",
       "    </tr>\n",
       "    <tr>\n",
       "      <th>4</th>\n",
       "      <td>0</td>\n",
       "      <td>0</td>\n",
       "      <td>0</td>\n",
       "      <td>1</td>\n",
       "      <td>0</td>\n",
       "      <td>0</td>\n",
       "      <td>0</td>\n",
       "      <td>1</td>\n",
       "      <td>1</td>\n",
       "      <td>0</td>\n",
       "      <td>...</td>\n",
       "      <td>0</td>\n",
       "      <td>0</td>\n",
       "      <td>0</td>\n",
       "      <td>0</td>\n",
       "      <td>0</td>\n",
       "      <td>0</td>\n",
       "      <td>0</td>\n",
       "      <td>0</td>\n",
       "      <td>0</td>\n",
       "      <td>0</td>\n",
       "    </tr>\n",
       "  </tbody>\n",
       "</table>\n",
       "<p>5 rows × 50 columns</p>\n",
       "</div>"
      ],
      "text/plain": [
       "   COMMIT_DAY[0,694]  COMMIT_DAY[694,1738]  COMMIT_DAY[1738,3409]  \\\n",
       "0                  0                     0                      0   \n",
       "1                  0                     0                      0   \n",
       "2                  0                     0                      0   \n",
       "3                  0                     0                      0   \n",
       "4                  0                     0                      0   \n",
       "\n",
       "   COMMIT_DAY[3409,6450]  LINES_ADDED[0,52]  LINES_ADDED[52,181]  \\\n",
       "0                      1                  1                    0   \n",
       "1                      1                  1                    0   \n",
       "2                      1                  1                    0   \n",
       "3                      1                  0                    1   \n",
       "4                      1                  0                    0   \n",
       "\n",
       "   LINES_ADDED[181,542]  LINES_ADDED[542,119045]  LINES_REMOVED[0,22]  \\\n",
       "0                     0                        0                    1   \n",
       "1                     0                        0                    1   \n",
       "2                     0                        0                    1   \n",
       "3                     0                        0                    1   \n",
       "4                     0                        1                    1   \n",
       "\n",
       "   LINES_REMOVED[22,92]  ...  Push Down Method  Rename Attribute  \\\n",
       "0                     0  ...                 0                 0   \n",
       "1                     0  ...                 0                 0   \n",
       "2                     0  ...                 0                 0   \n",
       "3                     0  ...                 0                 0   \n",
       "4                     0  ...                 0                 0   \n",
       "\n",
       "   Rename Class  Rename Method  Rename Package  Rename Parameter  \\\n",
       "0             0              0               0                 0   \n",
       "1             0              0               0                 0   \n",
       "2             0              0               0                 0   \n",
       "3             0              0               0                 0   \n",
       "4             0              0               0                 0   \n",
       "\n",
       "   Rename Variable  Replace Attribute  Replace Variable With Attribute  LABEL  \n",
       "0                0                  0                                0      0  \n",
       "1                0                  0                                0      0  \n",
       "2                0                  0                                0      0  \n",
       "3                0                  0                                0      0  \n",
       "4                0                  0                                0      0  \n",
       "\n",
       "[5 rows x 50 columns]"
      ]
     },
     "execution_count": 17,
     "metadata": {},
     "output_type": "execute_result"
    }
   ],
   "source": [
    "data.head()"
   ]
  },
  {
   "cell_type": "code",
   "execution_count": 30,
   "metadata": {},
   "outputs": [],
   "source": [
    "X = data.drop(columns='LABEL')\n",
    "y = data['LABEL']\n",
    "X_train, X_test, y_train, y_test = train_test_split(X, y, test_size=0.33, random_state=42)\n",
    "clf = RandomForestClassifier(max_depth=2, random_state=0, n_estimators=100, class_weight={0:0.3, 1:0.7})\n",
    "clf.fit(X, y)\n",
    "pred = clf.predict(X_test)"
   ]
  },
  {
   "cell_type": "code",
   "execution_count": 31,
   "metadata": {},
   "outputs": [
    {
     "name": "stdout",
     "output_type": "stream",
     "text": [
      "Metrics for one partition: \n",
      "\n",
      "confusion matrix:\n",
      " [[1963  567]\n",
      " [ 559  438]] \n",
      "\n",
      "accuracy: 0.681\n",
      "precision: 0.436\n",
      "recall: 0.439\n",
      "f1: 0.438\n"
     ]
    }
   ],
   "source": [
    "compute_metrics(y_test, pred)"
   ]
  },
  {
   "cell_type": "code",
   "execution_count": 20,
   "metadata": {},
   "outputs": [
    {
     "data": {
      "image/png": "[encoded data removed]",
      "text/plain": [
       "<Figure size 432x288 with 1 Axes>"
      ]
     },
     "metadata": {
      "needs_background": "light"
     },
     "output_type": "display_data"
    }
   ],
   "source": [
    "display = PrecisionRecallDisplay.from_estimator(\n",
    "    clf, X_test, y_test, name=\"RANDOM FOREST\"\n",
    ")\n",
    "_ = display.ax_.set_title(\"2-class Precision-Recall curve\")"
   ]
  },
  {
   "cell_type": "code",
   "execution_count": 16,
   "metadata": {},
   "outputs": [
    {
     "name": "stdout",
     "output_type": "stream",
     "text": [
      "Metrics averaged over 10 different partitions:\n",
      "\n",
      "mean accuracy: 0.683\n",
      "mean precision: 0.442\n",
      "mean recall: 0.45\n",
      "mean f1: 0.446\n"
     ]
    }
   ],
   "source": [
    "print('Metrics averaged over 10 different partitions:\\n')\n",
    "kf = KFold(n_splits=10, shuffle=True)\n",
    "kf.get_n_splits(X)\n",
    "accuracies = []\n",
    "precisions = []\n",
    "recalls = []\n",
    "f1s = []\n",
    "\n",
    "for train_index, test_index in kf.split(X):\n",
    "    clf = RandomForestClassifier(max_depth=2, random_state=0, n_estimators=100, class_weight={0:0.3, 1:0.7})\n",
    "    clf.fit(X.iloc[train_index], y[train_index])\n",
    "    pred = clf.predict(X.iloc[test_index])\n",
    "    \n",
    "    accuracies.append(accuracy_score(y[test_index], pred))\n",
    "    precisions.append(precision_score(y[test_index], pred))\n",
    "    recalls.append(recall_score(y[test_index], pred))\n",
    "    f1s.append(f1_score(y[test_index], pred)) \n",
    "    \n",
    "print('mean accuracy:', round(np.mean(accuracies),3))\n",
    "print('mean precision:', round(np.mean(precisions),3))\n",
    "print('mean recall:', round(np.mean(recalls),3))\n",
    "print('mean f1:', round(np.mean(f1s),3))"
   ]
  },
  {
   "cell_type": "markdown",
   "metadata": {},
   "source": [
    "## DUMMY RANDOM CLASSIFIER"
   ]
  },
  {
   "cell_type": "code",
   "execution_count": 28,
   "metadata": {},
   "outputs": [],
   "source": [
    "X = data.drop(columns='LABEL')\n",
    "y = data['LABEL']\n",
    "X_train, X_test, y_train, y_test = train_test_split(X, y, test_size=0.33, random_state=42)\n",
    "dummy_clf = DummyClassifier(strategy=\"uniform\")\n",
    "dummy_clf.fit(X, y)\n",
    "pred = dummy_clf.predict(X_test)"
   ]
  },
  {
   "cell_type": "code",
   "execution_count": 29,
   "metadata": {},
   "outputs": [
    {
     "name": "stdout",
     "output_type": "stream",
     "text": [
      "Metrics for one partition: \n",
      "\n",
      "confusion matrix:\n",
      " [[1314 1216]\n",
      " [ 513  484]] \n",
      "\n",
      "accuracy: 0.51\n",
      "precision: 0.285\n",
      "recall: 0.485\n",
      "f1: 0.359\n"
     ]
    }
   ],
   "source": [
    "compute_metrics(y_test, pred)"
   ]
  },
  {
   "cell_type": "code",
   "execution_count": null,
   "metadata": {},
   "outputs": [],
   "source": [
    "display = PrecisionRecallDisplay.from_estimator(\n",
    "    clf, X_test, y_test, name=\"RANDOM FOREST\"\n",
    ")\n",
    "_ = display.ax_.set_title(\"2-class Precision-Recall curve\")"
   ]
  }
 ],
 "metadata": {
  "kernelspec": {
   "display_name": "Python 3",
   "language": "python",
   "name": "python3"
  },
  "language_info": {
   "codemirror_mode": {
    "name": "ipython",
    "version": 3
   },
   "file_extension": ".py",
   "mimetype": "text/x-python",
   "name": "python",
   "nbconvert_exporter": "python",
   "pygments_lexer": "ipython3",
   "version": "3.8.10"
  }
 },
 "nbformat": 4,
 "nbformat_minor": 4
}
