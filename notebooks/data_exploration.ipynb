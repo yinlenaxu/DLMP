{
 "cells": [
  {
   "cell_type": "code",
   "execution_count": 1,
   "metadata": {},
   "outputs": [],
   "source": [
    "import pandas as pd\n",
    "import numpy as np\n",
    "import sqlite3\n",
    "import matplotlib.pyplot as plt "
   ]
  },
  {
   "cell_type": "markdown",
   "metadata": {
    "id": "FWKH61JXP23D"
   },
   "source": [
    "# DATA EXPLORATION"
   ]
  },
  {
   "cell_type": "code",
   "execution_count": 2,
   "metadata": {},
   "outputs": [],
   "source": [
    "conn = sqlite3.connect('../data/raw/td_V2.db')\n",
    "commits = pd.read_sql_query(\"SELECT * FROM GIT_COMMITS\",conn)\n",
    "commits_changes = pd.read_sql_query(\"SELECT * FROM GIT_COMMITS_CHANGES\",conn)\n",
    "faults = pd.read_sql_query(\"SELECT * FROM SZZ_FAULT_INDUCING_COMMITS\",conn)\n",
    "refactoring = pd.read_sql_query(\"SELECT * FROM REFACTORING_MINER\",conn)"
   ]
  },
  {
   "cell_type": "markdown",
   "metadata": {
    "id": "APERzyrzRWLP"
   },
   "source": [
    "## GIT_COMMITS"
   ]
  },
  {
   "cell_type": "code",
   "execution_count": 3,
   "metadata": {
    "colab": {
     "base_uri": "https://localhost:8080/",
     "height": 298
    },
    "id": "tGwsv7bpRcsc",
    "outputId": "d0864d46-e7e7-4539-8f98-508bbe75a729"
   },
   "outputs": [
    {
     "data": {
      "text/html": [
       "<div>\n",
       "<style scoped>\n",
       "    .dataframe tbody tr th:only-of-type {\n",
       "        vertical-align: middle;\n",
       "    }\n",
       "\n",
       "    .dataframe tbody tr th {\n",
       "        vertical-align: top;\n",
       "    }\n",
       "\n",
       "    .dataframe thead th {\n",
       "        text-align: right;\n",
       "    }\n",
       "</style>\n",
       "<table border=\"1\" class=\"dataframe\">\n",
       "  <thead>\n",
       "    <tr style=\"text-align: right;\">\n",
       "      <th></th>\n",
       "      <th>PROJECT_ID</th>\n",
       "      <th>COMMIT_HASH</th>\n",
       "      <th>COMMIT_MESSAGE</th>\n",
       "      <th>AUTHOR</th>\n",
       "      <th>AUTHOR_DATE</th>\n",
       "      <th>AUTHOR_TIMEZONE</th>\n",
       "      <th>COMMITTER</th>\n",
       "      <th>COMMITTER_DATE</th>\n",
       "      <th>COMMITTER_TIMEZONE</th>\n",
       "      <th>BRANCHES</th>\n",
       "      <th>IN_MAIN_BRANCH</th>\n",
       "      <th>MERGE</th>\n",
       "      <th>PARENTS</th>\n",
       "    </tr>\n",
       "  </thead>\n",
       "  <tbody>\n",
       "    <tr>\n",
       "      <th>0</th>\n",
       "      <td>org.apache:archiva</td>\n",
       "      <td>94fe3a7fc056638c90cbe4a6319c3cb658f395a5</td>\n",
       "      <td>create template structure   git-svn-id: https:...</td>\n",
       "      <td>Brett Porter</td>\n",
       "      <td>2005-11-23 23:54:12+00:00</td>\n",
       "      <td>0</td>\n",
       "      <td>Brett Porter</td>\n",
       "      <td>2005-11-23 23:54:12+00:00</td>\n",
       "      <td>0</td>\n",
       "      <td>{'master'}</td>\n",
       "      <td>True</td>\n",
       "      <td>False</td>\n",
       "      <td>[]</td>\n",
       "    </tr>\n",
       "    <tr>\n",
       "      <th>1</th>\n",
       "      <td>org.apache:archiva</td>\n",
       "      <td>2b6be811c1d4f5e81339616208530d486608e42b</td>\n",
       "      <td>repository manager - root POM   git-svn-id: ht...</td>\n",
       "      <td>Brett Porter</td>\n",
       "      <td>2005-11-28 03:15:35+00:00</td>\n",
       "      <td>0</td>\n",
       "      <td>Brett Porter</td>\n",
       "      <td>2005-11-28 03:15:35+00:00</td>\n",
       "      <td>0</td>\n",
       "      <td>{'master'}</td>\n",
       "      <td>True</td>\n",
       "      <td>False</td>\n",
       "      <td>['94fe3a7fc056638c90cbe4a6319c3cb658f395a5']</td>\n",
       "    </tr>\n",
       "    <tr>\n",
       "      <th>2</th>\n",
       "      <td>org.apache:archiva</td>\n",
       "      <td>af0ddbcfc1e8c2528decbd458f42e16cbcae5051</td>\n",
       "      <td>update reports   git-svn-id: https://svn.apach...</td>\n",
       "      <td>Brett Porter</td>\n",
       "      <td>2005-11-28 04:50:31+00:00</td>\n",
       "      <td>0</td>\n",
       "      <td>Brett Porter</td>\n",
       "      <td>2005-11-28 04:50:31+00:00</td>\n",
       "      <td>0</td>\n",
       "      <td>{'master'}</td>\n",
       "      <td>True</td>\n",
       "      <td>False</td>\n",
       "      <td>['2b6be811c1d4f5e81339616208530d486608e42b']</td>\n",
       "    </tr>\n",
       "  </tbody>\n",
       "</table>\n",
       "</div>"
      ],
      "text/plain": [
       "           PROJECT_ID                               COMMIT_HASH  \\\n",
       "0  org.apache:archiva  94fe3a7fc056638c90cbe4a6319c3cb658f395a5   \n",
       "1  org.apache:archiva  2b6be811c1d4f5e81339616208530d486608e42b   \n",
       "2  org.apache:archiva  af0ddbcfc1e8c2528decbd458f42e16cbcae5051   \n",
       "\n",
       "                                      COMMIT_MESSAGE        AUTHOR  \\\n",
       "0  create template structure   git-svn-id: https:...  Brett Porter   \n",
       "1  repository manager - root POM   git-svn-id: ht...  Brett Porter   \n",
       "2  update reports   git-svn-id: https://svn.apach...  Brett Porter   \n",
       "\n",
       "                 AUTHOR_DATE AUTHOR_TIMEZONE     COMMITTER  \\\n",
       "0  2005-11-23 23:54:12+00:00               0  Brett Porter   \n",
       "1  2005-11-28 03:15:35+00:00               0  Brett Porter   \n",
       "2  2005-11-28 04:50:31+00:00               0  Brett Porter   \n",
       "\n",
       "              COMMITTER_DATE COMMITTER_TIMEZONE    BRANCHES IN_MAIN_BRANCH  \\\n",
       "0  2005-11-23 23:54:12+00:00                  0  {'master'}           True   \n",
       "1  2005-11-28 03:15:35+00:00                  0  {'master'}           True   \n",
       "2  2005-11-28 04:50:31+00:00                  0  {'master'}           True   \n",
       "\n",
       "   MERGE                                       PARENTS  \n",
       "0  False                                            []  \n",
       "1  False  ['94fe3a7fc056638c90cbe4a6319c3cb658f395a5']  \n",
       "2  False  ['2b6be811c1d4f5e81339616208530d486608e42b']  "
      ]
     },
     "execution_count": 3,
     "metadata": {},
     "output_type": "execute_result"
    }
   ],
   "source": [
    "commits.head(3)"
   ]
  },
  {
   "cell_type": "code",
   "execution_count": 4,
   "metadata": {
    "colab": {
     "base_uri": "https://localhost:8080/"
    },
    "id": "yPqvJwn2RqWr",
    "outputId": "cc21c81e-6b8f-4b1f-8c09-b9101c413ff8"
   },
   "outputs": [
    {
     "data": {
      "text/plain": [
       "(153994, 13)"
      ]
     },
     "execution_count": 4,
     "metadata": {},
     "output_type": "execute_result"
    }
   ],
   "source": [
    "commits.shape"
   ]
  },
  {
   "cell_type": "code",
   "execution_count": 5,
   "metadata": {
    "colab": {
     "base_uri": "https://localhost:8080/"
    },
    "id": "r729UPzfVufT",
    "outputId": "c6064521-1454-44fa-c538-ebcafab62bd4"
   },
   "outputs": [
    {
     "data": {
      "text/plain": [
       "0"
      ]
     },
     "execution_count": 5,
     "metadata": {},
     "output_type": "execute_result"
    }
   ],
   "source": [
    "sum(commits.duplicated())"
   ]
  },
  {
   "cell_type": "code",
   "execution_count": 6,
   "metadata": {
    "colab": {
     "base_uri": "https://localhost:8080/"
    },
    "id": "xouKWFvMRlik",
    "outputId": "df2f6b1c-33cc-44c1-c569-a1fc050ace31"
   },
   "outputs": [
    {
     "name": "stdout",
     "output_type": "stream",
     "text": [
      "data type: object \n",
      "\n",
      "number of distinct project IDs: 31 \n",
      "\n",
      "number of null values in the column: 0 \n",
      "\n",
      "5 most common project IDs and % of appearance:\n",
      "org.apache:felix      19.79\n",
      "org.apache:cocoon     17.09\n",
      "org.apache:hive       10.22\n",
      "org.apache:archiva     5.65\n",
      "org.apache:batik       4.56\n",
      "Name: PROJECT_ID, dtype: float64\n"
     ]
    }
   ],
   "source": [
    "# PROJECT_IDs column\n",
    "print('data type:', commits.PROJECT_ID.dtype, '\\n')\n",
    "print('number of distinct project IDs:', len(commits.PROJECT_ID.unique()),'\\n')\n",
    "print('number of null values in the column:', sum(commits.PROJECT_ID.isnull()),'\\n')\n",
    "print('5 most common project IDs and % of appearance:\\n', round(commits.PROJECT_ID.value_counts()[:5]/len(commits),4)*100, sep = '')"
   ]
  },
  {
   "cell_type": "code",
   "execution_count": 7,
   "metadata": {
    "colab": {
     "base_uri": "https://localhost:8080/"
    },
    "id": "JlI-7n_1TC-s",
    "outputId": "de689bb2-3fd5-430f-a865-27b8f55944a8"
   },
   "outputs": [
    {
     "name": "stdout",
     "output_type": "stream",
     "text": [
      "data type: object \n",
      "\n",
      "number of distinct COMMIT_HASHs: 153994 \n",
      "\n",
      "number of null values in the column: 0 \n",
      "\n",
      "5 examples of COMMIT_HASH:\n",
      "c3aec12363b2e81d164fd97363a3eef966f50cd0    1\n",
      "11cce88d10d14a0e2cc91a46568ea12c40189436    1\n",
      "222ddd5b7d8f3f2798623ba9a6cf08c091a517f2    1\n",
      "a69f6493f2bd8719f572ddc291a166ce2f15cecd    1\n",
      "9dd22334dfdc2bb6ad5afa5783f72a7785a430d9    1\n",
      "Name: COMMIT_HASH, dtype: int64\n"
     ]
    }
   ],
   "source": [
    "# COMMIT_HASH column\n",
    "print('data type:', commits.COMMIT_HASH.dtype, '\\n')\n",
    "print('number of distinct COMMIT_HASHs:', len(commits.COMMIT_HASH.unique()),'\\n')\n",
    "print('number of null values in the column:', sum(commits.COMMIT_HASH.isnull()),'\\n')\n",
    "print('5 examples of COMMIT_HASH:\\n', commits.COMMIT_HASH.value_counts()[:5], sep = '') # each value is unique"
   ]
  },
  {
   "cell_type": "code",
   "execution_count": 8,
   "metadata": {
    "colab": {
     "base_uri": "https://localhost:8080/"
    },
    "id": "oJItzPf5SnqZ",
    "outputId": "8b79368d-354a-4c24-ce84-cd78aa12c4e1",
    "scrolled": true
   },
   "outputs": [
    {
     "name": "stdout",
     "output_type": "stream",
     "text": [
      "data type: object \n",
      "\n",
      "number of distinct COMMIT_MESSAGEs: 150877 \n",
      "\n",
      "number of null values in the column: 0 \n",
      "\n",
      "5 most common COMMIT_MESSAGEs and count of appearance:\n",
      "Javadoc.          144\n",
      "Sort members.      71\n",
      "Use final.         70\n",
      "Use isEmpty().     57\n",
      "cleanup            47\n",
      "Name: COMMIT_MESSAGE, dtype: int64\n"
     ]
    }
   ],
   "source": [
    "# COMMIT_MESSAGE column\n",
    "print('data type:', commits.COMMIT_MESSAGE.dtype, '\\n')\n",
    "print('number of distinct COMMIT_MESSAGEs:', len(commits.COMMIT_MESSAGE.unique()),'\\n')\n",
    "print('number of null values in the column:', sum(commits.COMMIT_MESSAGE.isnull()),'\\n')\n",
    "print('5 most common COMMIT_MESSAGEs and count of appearance:\\n', commits.COMMIT_MESSAGE.value_counts()[:5], sep = '')"
   ]
  },
  {
   "cell_type": "code",
   "execution_count": 9,
   "metadata": {
    "colab": {
     "base_uri": "https://localhost:8080/",
     "height": 35
    },
    "id": "GLGw7VD-pZj8",
    "outputId": "11a04162-59bf-4d1f-80d1-5cee1e6a042a"
   },
   "outputs": [
    {
     "data": {
      "text/plain": [
       "'Minor improvements to comments and toString() methods #71.'"
      ]
     },
     "execution_count": 9,
     "metadata": {},
     "output_type": "execute_result"
    }
   ],
   "source": [
    "commits.COMMIT_MESSAGE[13869]"
   ]
  },
  {
   "cell_type": "code",
   "execution_count": 10,
   "metadata": {
    "colab": {
     "base_uri": "https://localhost:8080/"
    },
    "id": "XlhyNA5hSBbf",
    "outputId": "8104f5b4-3554-4e20-dfda-e186141cd3a6"
   },
   "outputs": [
    {
     "name": "stdout",
     "output_type": "stream",
     "text": [
      "data type: object \n",
      "\n",
      "number of distinct AUTHORs: 1868 \n",
      "\n",
      "number of null values in the column: 0 \n",
      "\n",
      "5 most common AUTHORs and count of appearance:\n",
      "Carsten Ziegeler     11309\n",
      "Gary Gregory          5182\n",
      "Sebastian Bazley      4777\n",
      "Oleg Kalnichevski     4553\n",
      "Olivier Lamy          4303\n",
      "Name: AUTHOR, dtype: int64\n"
     ]
    }
   ],
   "source": [
    "# AUTHOR column\n",
    "print('data type:', commits.AUTHOR.dtype, '\\n')\n",
    "print('number of distinct AUTHORs:', len(commits.AUTHOR.unique()),'\\n')\n",
    "print('number of null values in the column:', sum(commits.AUTHOR.isnull()),'\\n')\n",
    "print('5 most common AUTHORs and count of appearance:\\n', commits.AUTHOR.value_counts()[:5], sep = '')"
   ]
  },
  {
   "cell_type": "code",
   "execution_count": 11,
   "metadata": {
    "colab": {
     "base_uri": "https://localhost:8080/"
    },
    "id": "v2qyul0kR4q5",
    "outputId": "88de11e1-f572-4569-812f-fd896e762907"
   },
   "outputs": [
    {
     "name": "stdout",
     "output_type": "stream",
     "text": [
      "data type: object \n",
      "\n",
      "data type: object \n",
      "\n",
      "number of distinct AUTHOR_DATE: 118254 \n",
      "\n",
      "number of null values in the column: 0 \n",
      "\n",
      "Examples:\n",
      "0    2005-11-23 23:54:12+00:00\n",
      "1    2005-11-28 03:15:35+00:00\n",
      "2    2005-11-28 04:50:31+00:00\n",
      "3    2005-11-29 01:34:22+00:00\n",
      "4    2005-11-29 01:43:41+00:00\n",
      "Name: AUTHOR_DATE, dtype: object\n"
     ]
    }
   ],
   "source": [
    "# AUTHOR_DATE column\n",
    "print('data type:', commits.AUTHOR_DATE.dtype, '\\n')  # we should convert to datetime\n",
    "commits.AUTHOR_DATE = pd.to_datetime(commits.AUTHOR_DATE, dayfirst=True)\n",
    "print('data type:', commits.AUTHOR_DATE.dtype, '\\n')\n",
    "print('number of distinct AUTHOR_DATE:', len(commits.AUTHOR_DATE.unique()),'\\n')\n",
    "print('number of null values in the column:', sum(commits.AUTHOR_DATE.isnull()),'\\n')\n",
    "print('Examples:\\n', commits.AUTHOR_DATE[:5], sep = '')"
   ]
  },
  {
   "cell_type": "code",
   "execution_count": 12,
   "metadata": {
    "colab": {
     "base_uri": "https://localhost:8080/"
    },
    "id": "vSqj7RiKkL38",
    "outputId": "79f1f7e1-0327-4a2e-cb65-f562fd0abcc7"
   },
   "outputs": [
    {
     "name": "stdout",
     "output_type": "stream",
     "text": [
      "                 AUTHOR_DATE AUTHOR_TIMEZONE\n",
      "0  2005-11-23 23:54:12+00:00               0\n",
      "1  2005-11-28 03:15:35+00:00               0\n",
      "2  2005-11-28 04:50:31+00:00               0\n",
      "3  2005-11-29 01:34:22+00:00               0\n",
      "4  2005-11-29 01:43:41+00:00               0\n",
      "5  2005-11-29 01:45:24+00:00               0\n",
      "6  2005-11-29 02:25:03+00:00               0\n",
      "7  2005-11-29 03:11:23+00:00               0\n",
      "8  2005-11-29 04:01:17+00:00               0\n",
      "9  2005-11-29 04:32:11+00:00               0\n"
     ]
    }
   ],
   "source": [
    "print(commits[commits.AUTHOR_TIMEZONE != 0][['AUTHOR_DATE','AUTHOR_TIMEZONE']][:10])"
   ]
  },
  {
   "cell_type": "code",
   "execution_count": 13,
   "metadata": {
    "colab": {
     "base_uri": "https://localhost:8080/"
    },
    "id": "IPpWzpzwVmOj",
    "outputId": "f5f73828-e125-4e61-9b37-c2bc8d29eacd"
   },
   "outputs": [
    {
     "name": "stdout",
     "output_type": "stream",
     "text": [
      "data type: object \n",
      "\n",
      "number of distinct AUTHOR_TIMEZONE: 26 \n",
      "\n",
      "number of null values in the column: 0 \n",
      "\n",
      "5 most common AUTHOR_TIMEZONE and count of appearance:\n",
      "0        127970\n",
      "25200      4864\n",
      "14400      3919\n",
      "-7200      3780\n",
      "-3600      3287\n",
      "Name: AUTHOR_TIMEZONE, dtype: int64\n",
      "\n",
      "5 most common AUTHOR_TIMEZONE and count of appearance:\n",
      "   AUTHOR_TIMEZONE   count\n",
      "0              0.0  127970\n",
      "1              7.0    4864\n",
      "2              4.0    3919\n",
      "3             -2.0    3780\n",
      "4             -1.0    3287\n"
     ]
    }
   ],
   "source": [
    "# AUTHOR_TIMEZONE column\n",
    "print('data type:', commits.AUTHOR_TIMEZONE.dtype, '\\n') \n",
    "print('number of distinct AUTHOR_TIMEZONE:', len(commits.AUTHOR_TIMEZONE.unique()),'\\n')\n",
    "print('number of null values in the column:', sum(commits.AUTHOR_TIMEZONE.isnull()),'\\n')\n",
    "print('5 most common AUTHOR_TIMEZONE and count of appearance:\\n', commits.AUTHOR_TIMEZONE.value_counts()[:5], '\\n', sep = '')  # units are in seconds!! \n",
    "commits.AUTHOR_TIMEZONE = commits.AUTHOR_TIMEZONE.astype(int)/3600  # convert into hours \n",
    "print('5 most common AUTHOR_TIMEZONE and count of appearance:\\n', pd.DataFrame(commits.AUTHOR_TIMEZONE.value_counts()).reset_index().rename(columns = {'index':'AUTHOR_TIMEZONE','AUTHOR_TIMEZONE':'count'})[:5], sep = '')"
   ]
  },
  {
   "cell_type": "code",
   "execution_count": 14,
   "metadata": {
    "colab": {
     "base_uri": "https://localhost:8080/"
    },
    "id": "b6ublcrwVePR",
    "outputId": "2d1c1546-bcff-49ac-f523-e8883be0824d"
   },
   "outputs": [
    {
     "name": "stdout",
     "output_type": "stream",
     "text": [
      "data type: object \n",
      "\n",
      "number of distinct COMMITTER: 751 \n",
      "\n",
      "number of null values in the column: 0 \n",
      "\n",
      "5 most common COMMITTER and count of appearance:\n",
      "Carsten Ziegeler     11309\n",
      "Gary Gregory          5162\n",
      "Sebastian Bazley      4777\n",
      "Oleg Kalnichevski     4769\n",
      "Olivier Lamy          4293\n",
      "Name: COMMITTER, dtype: int64\n"
     ]
    }
   ],
   "source": [
    "# COMMITTER column\n",
    "print('data type:', commits.COMMITTER.dtype, '\\n')\n",
    "print('number of distinct COMMITTER:', len(commits.COMMITTER.unique()),'\\n')\n",
    "print('number of null values in the column:', sum(commits.COMMITTER.isnull()),'\\n')\n",
    "print('5 most common COMMITTER and count of appearance:\\n', commits.COMMITTER.value_counts()[:5], sep = '')"
   ]
  },
  {
   "cell_type": "code",
   "execution_count": 15,
   "metadata": {
    "colab": {
     "base_uri": "https://localhost:8080/"
    },
    "id": "wBs7DF_ZYUoy",
    "outputId": "4a494179-0b50-4f04-8e9b-307436d2d522"
   },
   "outputs": [
    {
     "name": "stdout",
     "output_type": "stream",
     "text": [
      "data type: object \n",
      "\n",
      "data type: object \n",
      "\n",
      "number of distinct COMMITTER_DATE: 117915 \n",
      "\n",
      "number of null values in the column: 0 \n",
      "\n",
      "Examples:\n",
      "0    2005-11-23 23:54:12+00:00\n",
      "1    2005-11-28 03:15:35+00:00\n",
      "2    2005-11-28 04:50:31+00:00\n",
      "3    2005-11-29 01:34:22+00:00\n",
      "4    2005-11-29 01:43:41+00:00\n",
      "Name: COMMITTER_DATE, dtype: object\n"
     ]
    }
   ],
   "source": [
    "# COMMITTER_DATE column\n",
    "print('data type:', commits.COMMITTER_DATE.dtype, '\\n')  # we should convert to datetime\n",
    "commits.COMMITTER_DATE = pd.to_datetime(commits.COMMITTER_DATE, dayfirst=True)\n",
    "print('data type:', commits.COMMITTER_DATE.dtype, '\\n')\n",
    "print('number of distinct COMMITTER_DATE:', len(commits.COMMITTER_DATE.unique()),'\\n')\n",
    "print('number of null values in the column:', sum(commits.COMMITTER_DATE.isnull()),'\\n')\n",
    "print('Examples:\\n', commits.COMMITTER_DATE[:5], sep = '')"
   ]
  },
  {
   "cell_type": "code",
   "execution_count": 16,
   "metadata": {
    "colab": {
     "base_uri": "https://localhost:8080/"
    },
    "id": "hfowT1vvYyNX",
    "outputId": "a7245d73-468b-490d-91f0-96f43892ff85"
   },
   "outputs": [
    {
     "name": "stdout",
     "output_type": "stream",
     "text": [
      "data type: object \n",
      "\n",
      "number of distinct COMMITTER_TIMEZONE: 21 \n",
      "\n",
      "number of null values in the column: 0 \n",
      "\n",
      "5 most common COMMITTER_TIMEZONE and count of appearance:\n",
      "0        127866\n",
      "25200      4809\n",
      "14400      4172\n",
      "-7200      4075\n",
      "-3600      3445\n",
      "Name: COMMITTER_TIMEZONE, dtype: int64\n",
      "\n",
      "5 most common COMMITTER_TIMEZONE and count of appearance:\n",
      "   COMMITTER_TIMEZONE   count\n",
      "0                 0.0  127866\n",
      "1                 7.0    4809\n",
      "2                 4.0    4172\n",
      "3                -2.0    4075\n",
      "4                -1.0    3445\n"
     ]
    }
   ],
   "source": [
    "# COMMITTER_TIMEZONE column\n",
    "print('data type:', commits.COMMITTER_TIMEZONE.dtype, '\\n') \n",
    "print('number of distinct COMMITTER_TIMEZONE:', len(commits.COMMITTER_TIMEZONE.unique()),'\\n')\n",
    "print('number of null values in the column:', sum(commits.COMMITTER_TIMEZONE.isnull()),'\\n')\n",
    "print('5 most common COMMITTER_TIMEZONE and count of appearance:\\n', commits.COMMITTER_TIMEZONE.value_counts()[:5], '\\n', sep = '')  # units are in seconds!! \n",
    "commits.COMMITTER_TIMEZONE = commits.COMMITTER_TIMEZONE.astype(int)/3600  # convert into hours \n",
    "print('5 most common COMMITTER_TIMEZONE and count of appearance:\\n', pd.DataFrame(commits.COMMITTER_TIMEZONE.value_counts()).reset_index().rename(columns = {'index':'COMMITTER_TIMEZONE','COMMITTER_TIMEZONE':'count'})[:5], sep = '')"
   ]
  },
  {
   "cell_type": "code",
   "execution_count": 17,
   "metadata": {
    "colab": {
     "base_uri": "https://localhost:8080/"
    },
    "id": "GrvwpI-eZGBF",
    "outputId": "dc8bb669-5939-4a65-8cf8-a9939d544c08"
   },
   "outputs": [
    {
     "name": "stdout",
     "output_type": "stream",
     "text": [
      "data type: object \n",
      "\n",
      "number of distinct BRANCHES: 3 \n",
      "\n",
      "number of null values in the column: 0 \n",
      "\n",
      "Count of appearance of each branch:\n",
      "{'master'}    84442\n",
      "{'trunk'}     35163\n",
      "['trunk']     34389\n",
      "Name: BRANCHES, dtype: int64\n"
     ]
    }
   ],
   "source": [
    "# BRANCHES column\n",
    "print('data type:', commits.BRANCHES.dtype, '\\n')\n",
    "print('number of distinct BRANCHES:', len(commits.BRANCHES.unique()),'\\n')\n",
    "print('number of null values in the column:', sum(commits.BRANCHES.isnull()),'\\n')\n",
    "print('Count of appearance of each branch:\\n', commits.BRANCHES.value_counts(), sep = '')"
   ]
  },
  {
   "cell_type": "code",
   "execution_count": 18,
   "metadata": {
    "colab": {
     "base_uri": "https://localhost:8080/"
    },
    "id": "5LtvpaseZhhw",
    "outputId": "8ac329fc-2523-47e5-be59-f3307b672b59"
   },
   "outputs": [
    {
     "name": "stdout",
     "output_type": "stream",
     "text": [
      "data type: object \n",
      "\n",
      "number of distinct IN_MAIN_BRANCH: 1 \n",
      "\n",
      "number of null values in the column: 0 \n",
      "\n",
      "Count of appearance of each IN_MAIN_BRANCH:\n",
      "True    153994\n",
      "Name: IN_MAIN_BRANCH, dtype: int64\n"
     ]
    }
   ],
   "source": [
    "# IN_MAIN_BRANCH column\n",
    "print('data type:', commits.IN_MAIN_BRANCH.dtype, '\\n')\n",
    "print('number of distinct IN_MAIN_BRANCH:', len(commits.IN_MAIN_BRANCH.unique()),'\\n')\n",
    "print('number of null values in the column:', sum(commits.IN_MAIN_BRANCH.isnull()),'\\n')\n",
    "print('Count of appearance of each IN_MAIN_BRANCH:\\n', commits.IN_MAIN_BRANCH.value_counts(), sep = '')  # why is always True if there also exists Trunk branch ??? "
   ]
  },
  {
   "cell_type": "code",
   "execution_count": 19,
   "metadata": {
    "colab": {
     "base_uri": "https://localhost:8080/"
    },
    "id": "5rQmTa4FZ9Uo",
    "outputId": "3a8ddf92-007e-4e40-ef18-d61fb3ef268d"
   },
   "outputs": [
    {
     "name": "stdout",
     "output_type": "stream",
     "text": [
      "data type: object \n",
      "\n",
      "number of distinct MERGE: 2 \n",
      "\n",
      "number of null values in the column: 0 \n",
      "\n",
      "Count of appearance of each MERGE:\n",
      "False    152660\n",
      "True       1334\n",
      "Name: MERGE, dtype: int64\n"
     ]
    }
   ],
   "source": [
    "# MERGE column\n",
    "print('data type:', commits['MERGE'].dtype, '\\n')\n",
    "print('number of distinct MERGE:', len(commits['MERGE'].unique()),'\\n')\n",
    "print('number of null values in the column:', sum(commits['MERGE'].isnull()),'\\n')\n",
    "print('Count of appearance of each MERGE:\\n', commits['MERGE'].value_counts(), sep = '')  "
   ]
  },
  {
   "cell_type": "code",
   "execution_count": 20,
   "metadata": {
    "colab": {
     "base_uri": "https://localhost:8080/"
    },
    "id": "a6SsVvN2aN89",
    "outputId": "cf2e44c2-1ea4-440b-f55c-362795b4b81e"
   },
   "outputs": [
    {
     "name": "stdout",
     "output_type": "stream",
     "text": [
      "data type: object \n",
      "\n",
      "number of distinct PARENTS: 153316 \n",
      "\n",
      "number of null values in the column: 0 \n",
      "\n",
      "Examples and count of appearance:\n",
      "[]                                              38\n",
      "['09b0fdb0097448c8a04049984ff37cdd2d6e6989']    10\n",
      "['36faff5750169a914b4d08c25ebf6b8186c17277']     9\n",
      "['4832e4792b28c92466fdb7e7ca5446ddf9fdb524']     7\n",
      "['2b7a21b5b94826dc53ec2748929508086df42dd0']     7\n",
      "Name: PARENTS, dtype: int64\n"
     ]
    }
   ],
   "source": [
    "# PARENTS column\n",
    "print('data type:', commits['PARENTS'].dtype, '\\n')\n",
    "print('number of distinct PARENTS:', len(commits['PARENTS'].unique()),'\\n')\n",
    "print('number of null values in the column:', sum(commits['PARENTS'].isnull()),'\\n')\n",
    "print('Examples and count of appearance:\\n', commits['PARENTS'].value_counts()[:5], sep = '')  "
   ]
  },
  {
   "cell_type": "markdown",
   "metadata": {
    "id": "NEEupZE4b4cu"
   },
   "source": [
    "## REFACTORING_MINER"
   ]
  },
  {
   "cell_type": "code",
   "execution_count": 21,
   "metadata": {
    "colab": {
     "base_uri": "https://localhost:8080/"
    },
    "id": "4aCYcjlFbyv_",
    "outputId": "bfae6673-cc8f-4ce0-d177-af6a37d2d038"
   },
   "outputs": [
    {
     "data": {
      "text/plain": [
       "(37226, 4)"
      ]
     },
     "execution_count": 21,
     "metadata": {},
     "output_type": "execute_result"
    }
   ],
   "source": [
    "refactoring.shape"
   ]
  },
  {
   "cell_type": "code",
   "execution_count": 22,
   "metadata": {
    "colab": {
     "base_uri": "https://localhost:8080/",
     "height": 142
    },
    "id": "LkIZ23WQak0z",
    "outputId": "3b4a31ac-8826-4604-e24f-a08d759d2627"
   },
   "outputs": [
    {
     "data": {
      "text/html": [
       "<div>\n",
       "<style scoped>\n",
       "    .dataframe tbody tr th:only-of-type {\n",
       "        vertical-align: middle;\n",
       "    }\n",
       "\n",
       "    .dataframe tbody tr th {\n",
       "        vertical-align: top;\n",
       "    }\n",
       "\n",
       "    .dataframe thead th {\n",
       "        text-align: right;\n",
       "    }\n",
       "</style>\n",
       "<table border=\"1\" class=\"dataframe\">\n",
       "  <thead>\n",
       "    <tr style=\"text-align: right;\">\n",
       "      <th></th>\n",
       "      <th>PROJECT_ID</th>\n",
       "      <th>COMMIT_HASH</th>\n",
       "      <th>REFACTORING_TYPE</th>\n",
       "      <th>REFACTORING_DETAIL</th>\n",
       "    </tr>\n",
       "  </thead>\n",
       "  <tbody>\n",
       "    <tr>\n",
       "      <th>0</th>\n",
       "      <td>org.apache:batik</td>\n",
       "      <td>adbabd6f8adad3f9df936a5d61bc2984006d0666</td>\n",
       "      <td>Move Class</td>\n",
       "      <td>Move Class\\torg.apache.batik.util.XMLConstants...</td>\n",
       "    </tr>\n",
       "    <tr>\n",
       "      <th>1</th>\n",
       "      <td>org.apache:batik</td>\n",
       "      <td>23df647cf944b6c33ab23f0433305c153e247839</td>\n",
       "      <td>Move Class</td>\n",
       "      <td>Move Class\\torg.w3c.dom.events.CustomEvent mov...</td>\n",
       "    </tr>\n",
       "    <tr>\n",
       "      <th>2</th>\n",
       "      <td>org.apache:batik</td>\n",
       "      <td>23df647cf944b6c33ab23f0433305c153e247839</td>\n",
       "      <td>Move Class</td>\n",
       "      <td>Move Class\\torg.w3c.dom.events.KeyboardEvent m...</td>\n",
       "    </tr>\n",
       "  </tbody>\n",
       "</table>\n",
       "</div>"
      ],
      "text/plain": [
       "         PROJECT_ID                               COMMIT_HASH  \\\n",
       "0  org.apache:batik  adbabd6f8adad3f9df936a5d61bc2984006d0666   \n",
       "1  org.apache:batik  23df647cf944b6c33ab23f0433305c153e247839   \n",
       "2  org.apache:batik  23df647cf944b6c33ab23f0433305c153e247839   \n",
       "\n",
       "  REFACTORING_TYPE                                 REFACTORING_DETAIL  \n",
       "0       Move Class  Move Class\\torg.apache.batik.util.XMLConstants...  \n",
       "1       Move Class  Move Class\\torg.w3c.dom.events.CustomEvent mov...  \n",
       "2       Move Class  Move Class\\torg.w3c.dom.events.KeyboardEvent m...  "
      ]
     },
     "execution_count": 22,
     "metadata": {},
     "output_type": "execute_result"
    }
   ],
   "source": [
    "refactoring.head(3)"
   ]
  },
  {
   "cell_type": "code",
   "execution_count": 23,
   "metadata": {
    "colab": {
     "base_uri": "https://localhost:8080/"
    },
    "id": "SsgUFrT6VQix",
    "outputId": "557bd7c5-e716-4ea6-dff3-d716cb222166"
   },
   "outputs": [
    {
     "data": {
      "text/plain": [
       "126"
      ]
     },
     "execution_count": 23,
     "metadata": {},
     "output_type": "execute_result"
    }
   ],
   "source": [
    "sum(refactoring.duplicated())"
   ]
  },
  {
   "cell_type": "code",
   "execution_count": 24,
   "metadata": {
    "colab": {
     "base_uri": "https://localhost:8080/"
    },
    "id": "o_LZIb_aaoMg",
    "outputId": "f3e6ccdb-aef7-485a-baab-e7d2aecdac89"
   },
   "outputs": [
    {
     "name": "stdout",
     "output_type": "stream",
     "text": [
      "data type: object \n",
      "\n",
      "number of distinct PROJECT_ID: 31 \n",
      "\n",
      "number of null values in the column: 0 \n",
      "\n",
      "Examples and count of PROJECT_ID:\n",
      "org.apache:felix          6610\n",
      "org.apache:cocoon         3447\n",
      "org.apache:httpcore       3435\n",
      "org.apache:batik          3117\n",
      "org.apache:collections    2663\n",
      "Name: PROJECT_ID, dtype: int64\n",
      "\n",
      "100.0 % are contained in commits dataframe\n"
     ]
    }
   ],
   "source": [
    "# PROJECT_ID column\n",
    "print('data type:', refactoring.PROJECT_ID.dtype, '\\n')\n",
    "print('number of distinct PROJECT_ID:', len(refactoring.PROJECT_ID.unique()),'\\n')\n",
    "print('number of null values in the column:', sum(refactoring.PROJECT_ID.isnull()),'\\n')\n",
    "print('Examples and count of PROJECT_ID:\\n', refactoring.PROJECT_ID.value_counts()[:5], '\\n', sep = '')  \n",
    "print(sum(refactoring.PROJECT_ID.isin(commits.PROJECT_ID))/len(refactoring)*100, '% are contained in commits dataframe')"
   ]
  },
  {
   "cell_type": "code",
   "execution_count": 25,
   "metadata": {
    "colab": {
     "base_uri": "https://localhost:8080/"
    },
    "id": "2bBNp65ga4_6",
    "outputId": "42c187a0-dd70-4bec-d761-118977d488a6"
   },
   "outputs": [
    {
     "name": "stdout",
     "output_type": "stream",
     "text": [
      "data type: object \n",
      "\n",
      "number of distinct COMMIT_HASH: 8228 \n",
      "\n",
      "number of null values in the column: 0 \n",
      "\n",
      "Examples and count of COMMIT_HASH:\n",
      "dc86ba043d4d466fb7f39e9d1a71d9f9aca94ff4    534\n",
      "0cc32f7232d1c66121554cc65e1cfa54c1549c54    502\n",
      "d522432b79044740831a132d8b92e7dab5477444    417\n",
      "16812c91a36cef1d00ea2bded1a2cd98331d543b    290\n",
      "884baf0ddc6b869d9d4340b6fc9b1ff4d018e7c2    268\n",
      "Name: COMMIT_HASH, dtype: int64\n",
      "\n",
      "86.85864718207704 % are contained in commits dataframe\n"
     ]
    }
   ],
   "source": [
    "# COMMIT_HASH column\n",
    "print('data type:', refactoring.COMMIT_HASH.dtype, '\\n')\n",
    "print('number of distinct COMMIT_HASH:', len(refactoring.COMMIT_HASH.unique()),'\\n')\n",
    "print('number of null values in the column:', sum(refactoring.COMMIT_HASH.isnull()),'\\n')\n",
    "print('Examples and count of COMMIT_HASH:\\n', refactoring.COMMIT_HASH.value_counts()[:5], '\\n', sep = '')  \n",
    "print(sum(refactoring.COMMIT_HASH.isin(commits.COMMIT_HASH))/len(refactoring)*100, '% are contained in commits dataframe')  # why aren't all of them???"
   ]
  },
  {
   "cell_type": "code",
   "execution_count": 26,
   "metadata": {
    "colab": {
     "base_uri": "https://localhost:8080/"
    },
    "id": "SFw7xGcNcAKu",
    "outputId": "dab2b4c1-57f9-4f29-cd36-ce578629119d"
   },
   "outputs": [
    {
     "name": "stdout",
     "output_type": "stream",
     "text": [
      "data type: object \n",
      "\n",
      "number of distinct REFACTORING_TYPE: 30 \n",
      "\n",
      "number of null values in the column: 0 \n",
      "\n",
      "Examples and count of REFACTORING_TYPE:\n",
      "Move Class        7481\n",
      "Rename Method     5460\n",
      "Extract Method    4604\n",
      "Move Method       2783\n",
      "Move Attribute    2693\n",
      "Name: REFACTORING_TYPE, dtype: int64\n",
      "\n"
     ]
    }
   ],
   "source": [
    "# REFACTORING_TYPE column\n",
    "print('data type:', refactoring.REFACTORING_TYPE.dtype, '\\n')\n",
    "print('number of distinct REFACTORING_TYPE:', len(refactoring.REFACTORING_TYPE.unique()),'\\n')\n",
    "print('number of null values in the column:', sum(refactoring.REFACTORING_TYPE.isnull()),'\\n')\n",
    "print('Examples and count of REFACTORING_TYPE:\\n', refactoring.REFACTORING_TYPE.value_counts()[:5], '\\n', sep = '')  "
   ]
  },
  {
   "cell_type": "code",
   "execution_count": 27,
   "metadata": {
    "colab": {
     "base_uri": "https://localhost:8080/"
    },
    "id": "sw6PzS73cRvN",
    "outputId": "898c366e-d2f0-45ba-a231-29f47bb1642d"
   },
   "outputs": [
    {
     "name": "stdout",
     "output_type": "stream",
     "text": [
      "data type: object \n",
      "\n",
      "number of distinct REFACTORING_DETAIL: 33096 \n",
      "\n",
      "number of null values in the column: 0 \n",
      "\n",
      "Examples of REFACTORING_DETAIL:\n",
      "0    Move Class\\torg.apache.batik.util.XMLConstants...\n",
      "1    Move Class\\torg.w3c.dom.events.CustomEvent mov...\n",
      "2    Move Class\\torg.w3c.dom.events.KeyboardEvent m...\n",
      "3    Move Class\\torg.w3c.dom.events.MutationNameEve...\n",
      "4    Move Class\\torg.w3c.dom.events.TextEvent moved...\n",
      "Name: REFACTORING_DETAIL, dtype: object\n",
      "\n"
     ]
    }
   ],
   "source": [
    "# REFACTORING_DETAIL column\n",
    "print('data type:', refactoring.REFACTORING_DETAIL.dtype, '\\n')\n",
    "print('number of distinct REFACTORING_DETAIL:', len(refactoring.REFACTORING_DETAIL.unique()),'\\n')\n",
    "print('number of null values in the column:', sum(refactoring.REFACTORING_DETAIL.isnull()),'\\n')\n",
    "print('Examples of REFACTORING_DETAIL:\\n', refactoring.REFACTORING_DETAIL[:5], '\\n', sep = '')  "
   ]
  },
  {
   "cell_type": "markdown",
   "metadata": {
    "id": "V28Sb4naccnO"
   },
   "source": [
    "## SZZ_FAULT_INDUCING_COMMITS"
   ]
  },
  {
   "cell_type": "code",
   "execution_count": 28,
   "metadata": {
    "colab": {
     "base_uri": "https://localhost:8080/"
    },
    "id": "2ShxiMDBeAmL",
    "outputId": "ac6af79a-27d9-4351-aa5b-6eb794db764b"
   },
   "outputs": [
    {
     "data": {
      "text/plain": [
       "(52428, 3)"
      ]
     },
     "execution_count": 28,
     "metadata": {},
     "output_type": "execute_result"
    }
   ],
   "source": [
    "faults.shape"
   ]
  },
  {
   "cell_type": "code",
   "execution_count": 29,
   "metadata": {
    "colab": {
     "base_uri": "https://localhost:8080/",
     "height": 213
    },
    "id": "r1VsZX3leC0r",
    "outputId": "75902a0c-96c9-4050-f67f-641c45e89c74"
   },
   "outputs": [
    {
     "data": {
      "text/html": [
       "<div>\n",
       "<style scoped>\n",
       "    .dataframe tbody tr th:only-of-type {\n",
       "        vertical-align: middle;\n",
       "    }\n",
       "\n",
       "    .dataframe tbody tr th {\n",
       "        vertical-align: top;\n",
       "    }\n",
       "\n",
       "    .dataframe thead th {\n",
       "        text-align: right;\n",
       "    }\n",
       "</style>\n",
       "<table border=\"1\" class=\"dataframe\">\n",
       "  <thead>\n",
       "    <tr style=\"text-align: right;\">\n",
       "      <th></th>\n",
       "      <th>PROJECT_ID</th>\n",
       "      <th>FAULT_FIXING_COMMIT_HASH</th>\n",
       "      <th>FAULT_INDUCING_COMMIT_HASH</th>\n",
       "    </tr>\n",
       "  </thead>\n",
       "  <tbody>\n",
       "    <tr>\n",
       "      <th>0</th>\n",
       "      <td>org.apache:archiva</td>\n",
       "      <td>fa3688a693bc10bf53e72965027a82df0a8ad267</td>\n",
       "      <td>b7c003acb6b2c2a930443c511cb087d2776b4891</td>\n",
       "    </tr>\n",
       "    <tr>\n",
       "      <th>1</th>\n",
       "      <td>org.apache:archiva</td>\n",
       "      <td>d4c85abfac8d0920549f20735caf0e4028149c5c</td>\n",
       "      <td>5f9755b5ae526a83ecdd219401c97498b223b776</td>\n",
       "    </tr>\n",
       "    <tr>\n",
       "      <th>2</th>\n",
       "      <td>org.apache:archiva</td>\n",
       "      <td>d4c85abfac8d0920549f20735caf0e4028149c5c</td>\n",
       "      <td>9e37277c4a5d4c353f71ec5060951c554f20bab5</td>\n",
       "    </tr>\n",
       "  </tbody>\n",
       "</table>\n",
       "</div>"
      ],
      "text/plain": [
       "           PROJECT_ID                  FAULT_FIXING_COMMIT_HASH  \\\n",
       "0  org.apache:archiva  fa3688a693bc10bf53e72965027a82df0a8ad267   \n",
       "1  org.apache:archiva  d4c85abfac8d0920549f20735caf0e4028149c5c   \n",
       "2  org.apache:archiva  d4c85abfac8d0920549f20735caf0e4028149c5c   \n",
       "\n",
       "                 FAULT_INDUCING_COMMIT_HASH  \n",
       "0  b7c003acb6b2c2a930443c511cb087d2776b4891  \n",
       "1  5f9755b5ae526a83ecdd219401c97498b223b776  \n",
       "2  9e37277c4a5d4c353f71ec5060951c554f20bab5  "
      ]
     },
     "execution_count": 29,
     "metadata": {},
     "output_type": "execute_result"
    }
   ],
   "source": [
    "faults.head(3)"
   ]
  },
  {
   "cell_type": "code",
   "execution_count": 30,
   "metadata": {
    "colab": {
     "base_uri": "https://localhost:8080/"
    },
    "id": "hWbc-WS807BF",
    "outputId": "c497c0b1-74a6-4971-cf0e-324c512c55d0"
   },
   "outputs": [
    {
     "name": "stdout",
     "output_type": "stream",
     "text": [
      "data type: object \n",
      "\n",
      "number of distinct PROJECT_ID: 28 \n",
      "\n",
      "number of null values in the column: 0 \n",
      "\n",
      "Examples and count of PROJECT_ID:\n",
      "org.apache:felix        16183\n",
      "org.apache:thrift        9331\n",
      "org.apache:zookeeper     7377\n",
      "org.apache:cayenne       2990\n",
      "org.apache:archiva       2862\n",
      "Name: PROJECT_ID, dtype: int64\n",
      "\n",
      "100.0 % are contained in commits dataframe\n"
     ]
    }
   ],
   "source": [
    "# PROJECT_ID column\n",
    "print('data type:', faults.PROJECT_ID.dtype, '\\n')\n",
    "print('number of distinct PROJECT_ID:', len(faults.PROJECT_ID.unique()),'\\n')\n",
    "print('number of null values in the column:', sum(faults.PROJECT_ID.isnull()),'\\n')\n",
    "print('Examples and count of PROJECT_ID:\\n', faults.PROJECT_ID.value_counts()[:5], '\\n', sep = '')  \n",
    "print(sum(faults.PROJECT_ID.isin(commits.PROJECT_ID))/len(faults)*100, '% are contained in commits dataframe')"
   ]
  },
  {
   "cell_type": "code",
   "execution_count": 31,
   "metadata": {
    "colab": {
     "base_uri": "https://localhost:8080/"
    },
    "id": "B3zQtgub1JkG",
    "outputId": "2b533937-a9a9-4039-f43e-cbdbe781734d"
   },
   "outputs": [
    {
     "name": "stdout",
     "output_type": "stream",
     "text": [
      "data type: object \n",
      "\n",
      "number of distinct COMMIT_HASH: 7123 \n",
      "\n",
      "number of null values in the column: 0 \n",
      "\n",
      "Examples and count of COMMIT_HASH:\n",
      "412c7bb1ede09d81e9a2125542439a762ba1c501    369\n",
      "2be06d62b2626dea132d6eb891e6242983dfd16b    353\n",
      "777b1d6501e6a1e54d1afd59be50eb188a05c216    268\n",
      "17f229020f24ab34c553ef619f11834ae6882b21    196\n",
      "291a35ef8be015be252664e2cbde0af741cd82f1    174\n",
      "Name: FAULT_FIXING_COMMIT_HASH, dtype: int64\n",
      "\n",
      "100.0 % are contained in commits dataframe\n"
     ]
    }
   ],
   "source": [
    "# FAULT_FIXING_COMMIT_HASH column\n",
    "print('data type:', faults.FAULT_FIXING_COMMIT_HASH.dtype, '\\n')\n",
    "print('number of distinct COMMIT_HASH:', len(faults.FAULT_FIXING_COMMIT_HASH.unique()),'\\n')\n",
    "print('number of null values in the column:', sum(faults.FAULT_FIXING_COMMIT_HASH.isnull()),'\\n')\n",
    "print('Examples and count of COMMIT_HASH:\\n', faults.FAULT_FIXING_COMMIT_HASH.value_counts()[:5], '\\n', sep = '')  \n",
    "print(sum(faults.FAULT_FIXING_COMMIT_HASH.isin(commits.COMMIT_HASH))/len(faults)*100, '% are contained in commits dataframe')"
   ]
  },
  {
   "cell_type": "code",
   "execution_count": 32,
   "metadata": {
    "colab": {
     "base_uri": "https://localhost:8080/"
    },
    "id": "4zeh09261bJe",
    "outputId": "bb19135b-ef32-4e05-cefb-c9c913a72ffb"
   },
   "outputs": [
    {
     "name": "stdout",
     "output_type": "stream",
     "text": [
      "data type: object \n",
      "\n",
      "number of distinct COMMIT_HASH: 17326 \n",
      "\n",
      "number of null values in the column: 0 \n",
      "\n",
      "Examples and count of COMMIT_HASH:\n",
      "fc186f50392bf8c804b1d314971c92efa5f52fc3    204\n",
      "16a23a6618754a5a87aeb8df99a72516b0272fb3    154\n",
      "930feccd2f2f96e3ff14e0ad327c352d7a2cfdfd    111\n",
      "ffce83512370e970426f7f6b7cff8f519de59bd4    106\n",
      "0a81c16c4c921ef52179b943dd046fc72022ccc6     99\n",
      "Name: FAULT_INDUCING_COMMIT_HASH, dtype: int64\n",
      "\n",
      "100.0 % are contained in commits dataframe\n"
     ]
    }
   ],
   "source": [
    "# FAULT_INDUCING_COMMIT_HASH column\n",
    "print('data type:', faults.FAULT_INDUCING_COMMIT_HASH.dtype, '\\n')\n",
    "print('number of distinct COMMIT_HASH:', len(faults.FAULT_INDUCING_COMMIT_HASH.unique()),'\\n')\n",
    "print('number of null values in the column:', sum(faults.FAULT_INDUCING_COMMIT_HASH.isnull()),'\\n')\n",
    "print('Examples and count of COMMIT_HASH:\\n', faults.FAULT_INDUCING_COMMIT_HASH.value_counts()[:5], '\\n', sep = '')  \n",
    "print(sum(faults.FAULT_INDUCING_COMMIT_HASH.isin(commits.COMMIT_HASH))/len(faults)*100, '% are contained in commits dataframe')"
   ]
  },
  {
   "cell_type": "markdown",
   "metadata": {
    "id": "3yw5v-Qa1nTD"
   },
   "source": [
    "## GIT_COMMITS_CHANGES"
   ]
  },
  {
   "cell_type": "code",
   "execution_count": 33,
   "metadata": {
    "colab": {
     "base_uri": "https://localhost:8080/",
     "height": 309
    },
    "id": "aAuDO4B1DACM",
    "outputId": "62650939-0a49-4eb8-e0fa-ea239da8e01e"
   },
   "outputs": [
    {
     "data": {
      "text/html": [
       "<div>\n",
       "<style scoped>\n",
       "    .dataframe tbody tr th:only-of-type {\n",
       "        vertical-align: middle;\n",
       "    }\n",
       "\n",
       "    .dataframe tbody tr th {\n",
       "        vertical-align: top;\n",
       "    }\n",
       "\n",
       "    .dataframe thead th {\n",
       "        text-align: right;\n",
       "    }\n",
       "</style>\n",
       "<table border=\"1\" class=\"dataframe\">\n",
       "  <thead>\n",
       "    <tr style=\"text-align: right;\">\n",
       "      <th></th>\n",
       "      <th>PROJECT_ID</th>\n",
       "      <th>FILE</th>\n",
       "      <th>COMMIT_HASH</th>\n",
       "      <th>DATE</th>\n",
       "      <th>COMMITTER_ID</th>\n",
       "      <th>LINES_ADDED</th>\n",
       "      <th>LINES_REMOVED</th>\n",
       "      <th>NOTE</th>\n",
       "    </tr>\n",
       "  </thead>\n",
       "  <tbody>\n",
       "    <tr>\n",
       "      <th>0</th>\n",
       "      <td>org.apache:archiva</td>\n",
       "      <td>pom.xml</td>\n",
       "      <td>2b6be811c1d4f5e81339616208530d486608e42b</td>\n",
       "      <td>2005-11-28 03:15:35+00:00</td>\n",
       "      <td>Brett Porter</td>\n",
       "      <td>223</td>\n",
       "      <td>0</td>\n",
       "      <td>repository manager - root POM   git-svn-id: ht...</td>\n",
       "    </tr>\n",
       "    <tr>\n",
       "      <th>1</th>\n",
       "      <td>org.apache:archiva</td>\n",
       "      <td>pom.xml</td>\n",
       "      <td>af0ddbcfc1e8c2528decbd458f42e16cbcae5051</td>\n",
       "      <td>2005-11-28 04:50:31+00:00</td>\n",
       "      <td>Brett Porter</td>\n",
       "      <td>5</td>\n",
       "      <td>1</td>\n",
       "      <td>update reports   git-svn-id: https://svn.apach...</td>\n",
       "    </tr>\n",
       "    <tr>\n",
       "      <th>2</th>\n",
       "      <td>org.apache:archiva</td>\n",
       "      <td>pom.xml</td>\n",
       "      <td>ea640e1803a8535ebfba2ade4ea9272b240067e8</td>\n",
       "      <td>2005-11-29 01:34:22+00:00</td>\n",
       "      <td>Brett Porter</td>\n",
       "      <td>25</td>\n",
       "      <td>0</td>\n",
       "      <td>move discovery to a new component PR: MRM-9   ...</td>\n",
       "    </tr>\n",
       "    <tr>\n",
       "      <th>3</th>\n",
       "      <td>org.apache:archiva</td>\n",
       "      <td>AbstractArtifactDiscoverer.java</td>\n",
       "      <td>ea640e1803a8535ebfba2ade4ea9272b240067e8</td>\n",
       "      <td>2005-11-29 01:34:22+00:00</td>\n",
       "      <td>Brett Porter</td>\n",
       "      <td>103</td>\n",
       "      <td>0</td>\n",
       "      <td>move discovery to a new component PR: MRM-9   ...</td>\n",
       "    </tr>\n",
       "    <tr>\n",
       "      <th>4</th>\n",
       "      <td>org.apache:archiva</td>\n",
       "      <td>ArtifactDiscoverer.java</td>\n",
       "      <td>ea640e1803a8535ebfba2ade4ea9272b240067e8</td>\n",
       "      <td>2005-11-29 01:34:22+00:00</td>\n",
       "      <td>Brett Porter</td>\n",
       "      <td>60</td>\n",
       "      <td>0</td>\n",
       "      <td>move discovery to a new component PR: MRM-9   ...</td>\n",
       "    </tr>\n",
       "  </tbody>\n",
       "</table>\n",
       "</div>"
      ],
      "text/plain": [
       "           PROJECT_ID                             FILE  \\\n",
       "0  org.apache:archiva                          pom.xml   \n",
       "1  org.apache:archiva                          pom.xml   \n",
       "2  org.apache:archiva                          pom.xml   \n",
       "3  org.apache:archiva  AbstractArtifactDiscoverer.java   \n",
       "4  org.apache:archiva          ArtifactDiscoverer.java   \n",
       "\n",
       "                                COMMIT_HASH                       DATE  \\\n",
       "0  2b6be811c1d4f5e81339616208530d486608e42b  2005-11-28 03:15:35+00:00   \n",
       "1  af0ddbcfc1e8c2528decbd458f42e16cbcae5051  2005-11-28 04:50:31+00:00   \n",
       "2  ea640e1803a8535ebfba2ade4ea9272b240067e8  2005-11-29 01:34:22+00:00   \n",
       "3  ea640e1803a8535ebfba2ade4ea9272b240067e8  2005-11-29 01:34:22+00:00   \n",
       "4  ea640e1803a8535ebfba2ade4ea9272b240067e8  2005-11-29 01:34:22+00:00   \n",
       "\n",
       "   COMMITTER_ID LINES_ADDED LINES_REMOVED  \\\n",
       "0  Brett Porter         223             0   \n",
       "1  Brett Porter           5             1   \n",
       "2  Brett Porter          25             0   \n",
       "3  Brett Porter         103             0   \n",
       "4  Brett Porter          60             0   \n",
       "\n",
       "                                                NOTE  \n",
       "0  repository manager - root POM   git-svn-id: ht...  \n",
       "1  update reports   git-svn-id: https://svn.apach...  \n",
       "2  move discovery to a new component PR: MRM-9   ...  \n",
       "3  move discovery to a new component PR: MRM-9   ...  \n",
       "4  move discovery to a new component PR: MRM-9   ...  "
      ]
     },
     "execution_count": 33,
     "metadata": {},
     "output_type": "execute_result"
    }
   ],
   "source": [
    "commits_changes.head()"
   ]
  },
  {
   "cell_type": "code",
   "execution_count": 34,
   "metadata": {
    "colab": {
     "base_uri": "https://localhost:8080/",
     "height": 137
    },
    "id": "DeHBMF8Awmxr",
    "outputId": "0d584418-457d-4a07-f718-ac86a31ffac5"
   },
   "outputs": [
    {
     "data": {
      "text/plain": [
       "'repository manager - root POM   git-svn-id: https://svn.apache.org/repos/asf/maven/repository-manager/trunk@349352 13f79535-47bb-0310-9956-ffa450edef68'"
      ]
     },
     "execution_count": 34,
     "metadata": {},
     "output_type": "execute_result"
    }
   ],
   "source": [
    "commits_changes['NOTE'][0]"
   ]
  },
  {
   "cell_type": "code",
   "execution_count": 35,
   "metadata": {
    "colab": {
     "base_uri": "https://localhost:8080/"
    },
    "id": "tCg-a4mGsp_L",
    "outputId": "0b8bd094-a2d3-44d4-dcd3-a80034664ee3"
   },
   "outputs": [
    {
     "name": "stdout",
     "output_type": "stream",
     "text": [
      "data type: object \n",
      "\n",
      "number of distinct COMMIT_HASH: 150235 \n",
      "\n",
      "number of null values in the column: 0 \n",
      "\n",
      "Examples and count of COMMIT_HASH:\n",
      "7d56abaf9b4a0e3e30a9afbf94e22f4b78d63bd0    8980\n",
      "db99150c481c987a11467357e046d6dd60ffa843    6603\n",
      "9b19b491e7c8c950965f4ff5d0c1027f1cbf7ac8    5658\n",
      "ba0217ff17501fb849d8999e808d37579db7b4f1    4419\n",
      "3b98f2d1f9c01d171fb76aedbcf23dc254991d1a    4159\n",
      "Name: COMMIT_HASH, dtype: int64\n",
      "\n",
      "100.0 % are contained in commits dataframe\n"
     ]
    }
   ],
   "source": [
    "# COMMIT_HASH column\n",
    "print('data type:', commits_changes.COMMIT_HASH.dtype, '\\n')\n",
    "print('number of distinct COMMIT_HASH:', len(commits_changes.COMMIT_HASH.unique()),'\\n')\n",
    "print('number of null values in the column:', sum(commits_changes.COMMIT_HASH.isnull()),'\\n')\n",
    "print('Examples and count of COMMIT_HASH:\\n', commits_changes.COMMIT_HASH.value_counts()[:5], '\\n', sep = '')  \n",
    "print(sum(commits_changes.COMMIT_HASH.isin(commits.COMMIT_HASH))/len(commits_changes)*100, '% are contained in commits dataframe')  # why aren't all of them???"
   ]
  },
  {
   "cell_type": "markdown",
   "metadata": {
    "id": "ihYxRWqa0yO8"
   },
   "source": [
    "# VISUALIZATIONS"
   ]
  },
  {
   "cell_type": "code",
   "execution_count": 36,
   "metadata": {
    "id": "oCwrzNjYeasa"
   },
   "outputs": [],
   "source": [
    "# aggregate commits by project name and number of commits\n",
    "commits_count = pd.DataFrame(commits[['PROJECT_ID','COMMIT_HASH']].groupby('PROJECT_ID').count()).reset_index().sort_values('COMMIT_HASH', ascending=False)"
   ]
  },
  {
   "cell_type": "code",
   "execution_count": 37,
   "metadata": {
    "id": "-nlql40eh2sR"
   },
   "outputs": [],
   "source": [
    "# aggregate commits by project name and number of commits\n",
    "refactoring_count = pd.DataFrame(refactoring[['PROJECT_ID','COMMIT_HASH']].groupby('PROJECT_ID').count()).reset_index().sort_values('COMMIT_HASH', ascending=False)"
   ]
  },
  {
   "cell_type": "code",
   "execution_count": 38,
   "metadata": {
    "id": "tAGQk2xvePNf"
   },
   "outputs": [],
   "source": [
    "# aggregate faults by project name and number of commits\n",
    "faults_count = pd.DataFrame(faults[['PROJECT_ID','FAULT_FIXING_COMMIT_HASH']].groupby('PROJECT_ID').count()).reset_index().sort_values('FAULT_FIXING_COMMIT_HASH', ascending=False)"
   ]
  },
  {
   "cell_type": "code",
   "execution_count": 39,
   "metadata": {
    "colab": {
     "base_uri": "https://localhost:8080/",
     "height": 204
    },
    "id": "COz9CcKLm-2Q",
    "outputId": "502bf900-f34d-416f-c87e-8a658c1a5feb"
   },
   "outputs": [
    {
     "data": {
      "text/html": [
       "<div>\n",
       "<style scoped>\n",
       "    .dataframe tbody tr th:only-of-type {\n",
       "        vertical-align: middle;\n",
       "    }\n",
       "\n",
       "    .dataframe tbody tr th {\n",
       "        vertical-align: top;\n",
       "    }\n",
       "\n",
       "    .dataframe thead th {\n",
       "        text-align: right;\n",
       "    }\n",
       "</style>\n",
       "<table border=\"1\" class=\"dataframe\">\n",
       "  <thead>\n",
       "    <tr style=\"text-align: right;\">\n",
       "      <th></th>\n",
       "      <th>PROJECT_ID</th>\n",
       "      <th>FAULT_FIXING_COMMIT_HASH</th>\n",
       "    </tr>\n",
       "  </thead>\n",
       "  <tbody>\n",
       "    <tr>\n",
       "      <th>18</th>\n",
       "      <td>org.apache:felix</td>\n",
       "      <td>16183</td>\n",
       "    </tr>\n",
       "    <tr>\n",
       "      <th>24</th>\n",
       "      <td>org.apache:thrift</td>\n",
       "      <td>9331</td>\n",
       "    </tr>\n",
       "    <tr>\n",
       "      <th>27</th>\n",
       "      <td>org.apache:zookeeper</td>\n",
       "      <td>7377</td>\n",
       "    </tr>\n",
       "    <tr>\n",
       "      <th>4</th>\n",
       "      <td>org.apache:cayenne</td>\n",
       "      <td>2990</td>\n",
       "    </tr>\n",
       "    <tr>\n",
       "      <th>0</th>\n",
       "      <td>org.apache:archiva</td>\n",
       "      <td>2862</td>\n",
       "    </tr>\n",
       "  </tbody>\n",
       "</table>\n",
       "</div>"
      ],
      "text/plain": [
       "              PROJECT_ID  FAULT_FIXING_COMMIT_HASH\n",
       "18      org.apache:felix                     16183\n",
       "24     org.apache:thrift                      9331\n",
       "27  org.apache:zookeeper                      7377\n",
       "4     org.apache:cayenne                      2990\n",
       "0     org.apache:archiva                      2862"
      ]
     },
     "execution_count": 39,
     "metadata": {},
     "output_type": "execute_result"
    }
   ],
   "source": [
    "faults_count.head()"
   ]
  },
  {
   "cell_type": "code",
   "execution_count": 40,
   "metadata": {
    "id": "WQph9aXgiSew"
   },
   "outputs": [],
   "source": [
    "counts = commits_count.merge(refactoring_count, on = 'PROJECT_ID', suffixes = ['_commits','_refactorings']).merge(faults_count, on = 'PROJECT_ID')\n",
    "counts.rename(columns = {'COMMIT_HASH_commits':'commits','COMMIT_HASH_refactorings':'refactorings','FAULT_FIXING_COMMIT_HASH':'faults'}, inplace=True)"
   ]
  },
  {
   "cell_type": "code",
   "execution_count": 41,
   "metadata": {
    "colab": {
     "base_uri": "https://localhost:8080/",
     "height": 142
    },
    "id": "u4WdbpLtimaG",
    "outputId": "5b90330f-8e1c-4a08-d441-f0bceb716cba"
   },
   "outputs": [
    {
     "data": {
      "text/html": [
       "<div>\n",
       "<style scoped>\n",
       "    .dataframe tbody tr th:only-of-type {\n",
       "        vertical-align: middle;\n",
       "    }\n",
       "\n",
       "    .dataframe tbody tr th {\n",
       "        vertical-align: top;\n",
       "    }\n",
       "\n",
       "    .dataframe thead th {\n",
       "        text-align: right;\n",
       "    }\n",
       "</style>\n",
       "<table border=\"1\" class=\"dataframe\">\n",
       "  <thead>\n",
       "    <tr style=\"text-align: right;\">\n",
       "      <th></th>\n",
       "      <th>PROJECT_ID</th>\n",
       "      <th>commits</th>\n",
       "      <th>refactorings</th>\n",
       "      <th>faults</th>\n",
       "    </tr>\n",
       "  </thead>\n",
       "  <tbody>\n",
       "    <tr>\n",
       "      <th>0</th>\n",
       "      <td>org.apache:felix</td>\n",
       "      <td>30470</td>\n",
       "      <td>6610</td>\n",
       "      <td>16183</td>\n",
       "    </tr>\n",
       "    <tr>\n",
       "      <th>1</th>\n",
       "      <td>org.apache:cocoon</td>\n",
       "      <td>26321</td>\n",
       "      <td>3447</td>\n",
       "      <td>401</td>\n",
       "    </tr>\n",
       "    <tr>\n",
       "      <th>2</th>\n",
       "      <td>org.apache:archiva</td>\n",
       "      <td>8695</td>\n",
       "      <td>1594</td>\n",
       "      <td>2862</td>\n",
       "    </tr>\n",
       "  </tbody>\n",
       "</table>\n",
       "</div>"
      ],
      "text/plain": [
       "           PROJECT_ID  commits  refactorings  faults\n",
       "0    org.apache:felix    30470          6610   16183\n",
       "1   org.apache:cocoon    26321          3447     401\n",
       "2  org.apache:archiva     8695          1594    2862"
      ]
     },
     "execution_count": 41,
     "metadata": {},
     "output_type": "execute_result"
    }
   ],
   "source": [
    "counts.head(3)"
   ]
  },
  {
   "cell_type": "code",
   "execution_count": 42,
   "metadata": {
    "colab": {
     "base_uri": "https://localhost:8080/",
     "height": 509
    },
    "id": "vQOF7K9afTxd",
    "outputId": "5b855c20-ffa2-4357-e1d1-1406d5037d2c"
   },
   "outputs": [
    {
     "data": {
      "image/png": "[encoded data removed]",
      "text/plain": [
       "<Figure size 1080x504 with 1 Axes>"
      ]
     },
     "metadata": {
      "needs_background": "light"
     },
     "output_type": "display_data"
    }
   ],
   "source": [
    "plt.figure(figsize=(15,7))\n",
    "plt.bar(commits_count.PROJECT_ID, commits_count.COMMIT_HASH)\n",
    "plt.xticks(rotation=45)\n",
    "plt.show()"
   ]
  },
  {
   "cell_type": "code",
   "execution_count": 43,
   "metadata": {
    "colab": {
     "base_uri": "https://localhost:8080/",
     "height": 509
    },
    "id": "dpsyhfOUiGMG",
    "outputId": "ab63dd2c-bdee-44a2-89f3-46e0aae8294e"
   },
   "outputs": [
    {
     "data": {
      "image/png": "[encoded data removed]",
      "text/plain": [
       "<Figure size 1080x504 with 1 Axes>"
      ]
     },
     "metadata": {
      "needs_background": "light"
     },
     "output_type": "display_data"
    }
   ],
   "source": [
    "plt.figure(figsize=(15,7))\n",
    "plt.bar(refactoring_count.PROJECT_ID, refactoring_count.COMMIT_HASH)\n",
    "plt.xticks(rotation=45)\n",
    "plt.show()"
   ]
  },
  {
   "cell_type": "code",
   "execution_count": 44,
   "metadata": {
    "colab": {
     "base_uri": "https://localhost:8080/",
     "height": 510
    },
    "id": "Dbk9hIF5mvJh",
    "outputId": "a952199f-ed58-4cec-82b0-8c3b5b3e5c8a"
   },
   "outputs": [
    {
     "data": {
      "image/png": "[encoded data removed]",
      "text/plain": [
       "<Figure size 1080x504 with 1 Axes>"
      ]
     },
     "metadata": {
      "needs_background": "light"
     },
     "output_type": "display_data"
    }
   ],
   "source": [
    "plt.figure(figsize=(15,7))\n",
    "plt.bar(faults_count.PROJECT_ID, faults_count.FAULT_FIXING_COMMIT_HASH)\n",
    "plt.xticks(rotation=45)\n",
    "plt.show()"
   ]
  },
  {
   "cell_type": "code",
   "execution_count": 45,
   "metadata": {
    "colab": {
     "base_uri": "https://localhost:8080/",
     "height": 540
    },
    "id": "jccT5H6mt31t",
    "outputId": "5f134f68-856b-4f15-8c65-840d621335ef"
   },
   "outputs": [
    {
     "data": {
      "image/png": "[encoded data removed]",
      "text/plain": [
       "<Figure size 1440x504 with 1 Axes>"
      ]
     },
     "metadata": {
      "needs_background": "light"
     },
     "output_type": "display_data"
    }
   ],
   "source": [
    "counts.set_index('PROJECT_ID').plot(kind='bar', figsize=(20,7), rot=45, width=0.65)\n",
    "plt.show()"
   ]
  },
  {
   "cell_type": "code",
   "execution_count": 46,
   "metadata": {
    "colab": {
     "base_uri": "https://localhost:8080/",
     "height": 204
    },
    "id": "Df12ltvssyKQ",
    "outputId": "83b95e15-54b7-4bb6-f0b3-e829ee06d312"
   },
   "outputs": [
    {
     "data": {
      "text/html": [
       "<div>\n",
       "<style scoped>\n",
       "    .dataframe tbody tr th:only-of-type {\n",
       "        vertical-align: middle;\n",
       "    }\n",
       "\n",
       "    .dataframe tbody tr th {\n",
       "        vertical-align: top;\n",
       "    }\n",
       "\n",
       "    .dataframe thead th {\n",
       "        text-align: right;\n",
       "    }\n",
       "</style>\n",
       "<table border=\"1\" class=\"dataframe\">\n",
       "  <thead>\n",
       "    <tr style=\"text-align: right;\">\n",
       "      <th></th>\n",
       "      <th>PROJECT_ID</th>\n",
       "      <th>commits</th>\n",
       "      <th>refactorings</th>\n",
       "      <th>faults</th>\n",
       "    </tr>\n",
       "  </thead>\n",
       "  <tbody>\n",
       "    <tr>\n",
       "      <th>0</th>\n",
       "      <td>org.apache:felix</td>\n",
       "      <td>30470</td>\n",
       "      <td>6610</td>\n",
       "      <td>16183</td>\n",
       "    </tr>\n",
       "    <tr>\n",
       "      <th>1</th>\n",
       "      <td>org.apache:cocoon</td>\n",
       "      <td>26321</td>\n",
       "      <td>3447</td>\n",
       "      <td>401</td>\n",
       "    </tr>\n",
       "    <tr>\n",
       "      <th>2</th>\n",
       "      <td>org.apache:archiva</td>\n",
       "      <td>8695</td>\n",
       "      <td>1594</td>\n",
       "      <td>2862</td>\n",
       "    </tr>\n",
       "    <tr>\n",
       "      <th>3</th>\n",
       "      <td>org.apache:batik</td>\n",
       "      <td>7015</td>\n",
       "      <td>3117</td>\n",
       "      <td>775</td>\n",
       "    </tr>\n",
       "    <tr>\n",
       "      <th>4</th>\n",
       "      <td>org.apache:cayenne</td>\n",
       "      <td>6733</td>\n",
       "      <td>362</td>\n",
       "      <td>2990</td>\n",
       "    </tr>\n",
       "  </tbody>\n",
       "</table>\n",
       "</div>"
      ],
      "text/plain": [
       "           PROJECT_ID  commits  refactorings  faults\n",
       "0    org.apache:felix    30470          6610   16183\n",
       "1   org.apache:cocoon    26321          3447     401\n",
       "2  org.apache:archiva     8695          1594    2862\n",
       "3    org.apache:batik     7015          3117     775\n",
       "4  org.apache:cayenne     6733           362    2990"
      ]
     },
     "execution_count": 46,
     "metadata": {},
     "output_type": "execute_result"
    }
   ],
   "source": [
    "counts.head()"
   ]
  },
  {
   "cell_type": "code",
   "execution_count": 47,
   "metadata": {
    "colab": {
     "base_uri": "https://localhost:8080/",
     "height": 432
    },
    "id": "zBAc_8Fai1i1",
    "outputId": "8faed045-1586-4225-cdc3-047233f1497b"
   },
   "outputs": [
    {
     "data": {
      "image/png": "[encoded data removed]",
      "text/plain": [
       "<Figure size 1440x504 with 3 Axes>"
      ]
     },
     "metadata": {
      "needs_background": "light"
     },
     "output_type": "display_data"
    }
   ],
   "source": [
    "plt.figure(figsize=(20,7))\n",
    "plt.subplot(1, 3, 1)\n",
    "plt.scatter(counts.commits, counts.refactorings, label = \"label_name\" )\n",
    "ax = plt.gca()\n",
    "ax.set_yscale('log')\n",
    "ax.set_xscale('log')\n",
    "plt.subplot(1, 3, 2)\n",
    "plt.scatter(counts.commits, counts.faults, label = \"label_name\" )\n",
    "ax = plt.gca()\n",
    "ax.set_yscale('log')\n",
    "ax.set_xscale('log')\n",
    "plt.subplot(1, 3, 3)\n",
    "plt.scatter(counts.refactorings, counts.faults, label = \"label_name\" )\n",
    "ax = plt.gca()\n",
    "ax.set_yscale('log')\n",
    "ax.set_xscale('log')\n",
    "# add a plot looking for the relative measures: refactorings/commits - faults"
   ]
  },
  {
   "cell_type": "code",
   "execution_count": 48,
   "metadata": {
    "colab": {
     "base_uri": "https://localhost:8080/",
     "height": 285
    },
    "id": "wDCe_r5pnkGU",
    "outputId": "e0b25f63-beeb-4d76-e398-504b482f00ec"
   },
   "outputs": [
    {
     "data": {
      "text/plain": [
       "<matplotlib.collections.PathCollection at 0x7f90c1e0a390>"
      ]
     },
     "execution_count": 48,
     "metadata": {},
     "output_type": "execute_result"
    },
    {
     "data": {
      "image/png": "[encoded data removed]",
      "text/plain": [
       "<Figure size 432x288 with 1 Axes>"
      ]
     },
     "metadata": {
      "needs_background": "light"
     },
     "output_type": "display_data"
    }
   ],
   "source": [
    "plt.scatter(counts.commits, counts.faults, label = \"label_name\" )"
   ]
  },
  {
   "cell_type": "code",
   "execution_count": null,
   "metadata": {},
   "outputs": [],
   "source": []
  }
 ],
 "metadata": {
  "colab": {
   "collapsed_sections": [],
   "name": "DATA_EXPLORATION.ipynb",
   "provenance": []
  },
  "kernelspec": {
   "display_name": "Python 3",
   "language": "python",
   "name": "python3"
  },
  "language_info": {
   "codemirror_mode": {
    "name": "ipython",
    "version": 3
   },
   "file_extension": ".py",
   "mimetype": "text/x-python",
   "name": "python",
   "nbconvert_exporter": "python",
   "pygments_lexer": "ipython3",
   "version": "3.7.4"
  }
 },
 "nbformat": 4,
 "nbformat_minor": 1
}
